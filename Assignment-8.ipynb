{
 "cells": [
  {
   "cell_type": "markdown",
   "id": "822f2be8",
   "metadata": {},
   "source": [
    "# Assignment - 8\n",
    "\n",
    "## - by Akash Nandi"
   ]
  },
  {
   "cell_type": "markdown",
   "id": "d1474309",
   "metadata": {},
   "source": [
    "### 1. What are the two latest user-defined exception constraints in Python 3.X ?\n",
    "\n",
    "#### Solution :- The two latest user-defined exception constraints in Python 3.X are:\n",
    "#### 1. ValueError: Raised when a function receives an argument with an inappropriate value. \n",
    "#### 2. TypeError: Raised when an operation or function is applied to an object of inappropriate type."
   ]
  },
  {
   "cell_type": "markdown",
   "id": "082c2ead",
   "metadata": {},
   "source": [
    "### 2. How are class-based exceptions that have been raised matched to handlers ?\n",
    "\n",
    "#### Solution :- When an exception is raised in Python, the interpreter searches for an exception handler that can handle the exception. If a matching handler is not found, the interpreter prints a traceback and terminates the program. Class-based exceptions in Python are matched to handlers using the exception hierarchy. When an exception is raised, the interpreter checks if the exception class is a subclass of any of the exception classes listed in the except clause of a try-except block. If a match is found, the corresponding except block is executed. If no match is found, the exception is propagated to the next outer try-except block, or if there is no outer block, the interpreter prints a traceback and terminates the program."
   ]
  },
  {
   "cell_type": "markdown",
   "id": "00601b50",
   "metadata": {},
   "source": [
    "### 3. Describe two methods for attaching context information to exception artefacts.\n",
    "\n",
    "#### Solution :- When an exception is raised in Python, it is often helpful to include additional context information with the exception to help diagnose the problem. Here are two methods for attaching context information to exception artifacts:\n",
    "\n",
    "#### 1. Using the raise ... from statement: When raising an exception, we can use the from clause to attach the context information of another exception that caused the current exception.\n",
    "\n",
    "#### 2. Attaching custom attributes to the exception object: We can also attach custom attributes to the exception object itself to provide additional context information."
   ]
  },
  {
   "cell_type": "markdown",
   "id": "eec63be1",
   "metadata": {},
   "source": [
    "### 4. Describe two methods for specifying the text of an exception object's error message.\n",
    "\n",
    "#### Solution :- The two methods are :\n",
    "\n",
    "#### 1. Constructor Argument: One common way to specify the text of an exception object's error message is to provide it as a constructor argument when creating the exception object. For example, in Java, the Exception class provides a constructor that takes a String argument to specify the error message.\n",
    "\n",
    "#### 2. Method Call: Another method for specifying the text of an exception object's error message is to call a method to set the message after the exception object has been created. For example, in Python, the Exception class provides a __init__ method that can be overridden to set the error message, and also provides a __str__ method that returns the error message as a string."
   ]
  },
  {
   "cell_type": "markdown",
   "id": "9419ecf2",
   "metadata": {},
   "source": [
    "### 5. Why do you no longer use string-based exceptions ?\n",
    "\n",
    "#### Solution :- String-based exceptions can be difficult to manage and can lead to code that is hard to maintain. With string-based exceptions, we need to rely on convention and documentation to know what kind of exceptions can be raised and what their messages mean. This can be error-prone and can make it hard for developers to catch and handle exceptions effectively. In contrast, using custom exception classes allows us to define specific types of exceptions with clear names and messages, making it easier for developers to understand and handle them properly. Custom exception classes can also be used to create hierarchies of exceptions, allowing for more fine-grained error handling and making it easier to write code that responds to different types of errors in different ways."
   ]
  },
  {
   "cell_type": "code",
   "execution_count": null,
   "id": "b024cafa",
   "metadata": {},
   "outputs": [],
   "source": []
  }
 ],
 "metadata": {
  "kernelspec": {
   "display_name": "Python 3 (ipykernel)",
   "language": "python",
   "name": "python3"
  },
  "language_info": {
   "codemirror_mode": {
    "name": "ipython",
    "version": 3
   },
   "file_extension": ".py",
   "mimetype": "text/x-python",
   "name": "python",
   "nbconvert_exporter": "python",
   "pygments_lexer": "ipython3",
   "version": "3.9.7"
  }
 },
 "nbformat": 4,
 "nbformat_minor": 5
}
