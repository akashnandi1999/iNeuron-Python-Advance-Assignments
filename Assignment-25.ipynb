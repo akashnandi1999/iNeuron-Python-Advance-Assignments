{
 "cells": [
  {
   "cell_type": "markdown",
   "id": "710f4722",
   "metadata": {},
   "source": [
    "# Assignment-25\n",
    "\n",
    "## - by Akash Nandi"
   ]
  },
  {
   "cell_type": "markdown",
   "id": "f0c7f148",
   "metadata": {},
   "source": [
    "### 1. What is the distinction between a numpy array and a pandas data frame ? Is there a way to convert between the two if there is ?\n",
    "\n",
    "#### Solution :- The primary distinction between a NumPy array and a Pandas DataFrame is that a NumPy array is a multi-dimensional homogeneous collection of values with a single data type, whereas a Pandas DataFrame is a two-dimensional heterogeneous collection of data with column labels that can be of different data types.\n",
    "\n",
    "#### A NumPy array has a fixed size and shape, whereas a Pandas DataFrame can be modified by adding or removing rows or columns. In addition, a Pandas DataFrame has several built-in features for data cleaning, filtering, and aggregation, whereas NumPy does not. NumPy arrays are ideal for numerical calculations, whereas Pandas DataFrames are ideal for handling tabular data that may have missing or inconsistent values. It is possible to convert a Pandas DataFrame to a NumPy array using the values attribute, which returns the underlying NumPy array of the DataFrame. Conversely, a NumPy array can be converted to a Pandas DataFrame using the pd.DataFrame() constructor."
   ]
  },
  {
   "cell_type": "markdown",
   "id": "c708399c",
   "metadata": {},
   "source": [
    "### 2. What can go wrong when an user enters in a stock-ticker symbol, and how do you handle it ?\n",
    "\n",
    "#### Solution :-  When a user enters a stock ticker symbol, several things can go wrong, including:\n",
    "\n",
    "#### 1. The user can enter an invalid or incorrect symbol that doesn't exist in the stock market.\n",
    "#### 2. The user can enter a valid symbol, but it may be for a different company than the one they intended to search for.\n",
    "#### 3. The user can enter a symbol that is not traded on the exchange they are searching, such as a foreign exchange.\n",
    "#### To handle these issues, you can implement some error handling techniques. For instance:\n",
    "\n",
    "#### 1. Check if the entered symbol is valid or not by comparing it with a list of valid symbols. You can also use a third-party API that provides information about stock symbols.\n",
    "#### 2. Use additional information to ensure that the user is searching for the correct company. For instance, you can ask the user to input the full name of the company instead of just the symbol.\n",
    "#### 3. You can provide a message to the user that the entered symbol is not traded on the specified exchange."
   ]
  },
  {
   "cell_type": "markdown",
   "id": "71acdcdc",
   "metadata": {},
   "source": [
    "### 3. Identify some of the plotting techniques that are used to produce a stock-market chart.\n",
    "\n",
    "#### Solution :- Some of the plotting techniques that are commonly used to produce a stock-market chart include:\n",
    "\n",
    "#### 1. Line plot: A line plot is the simplest type of plot that can be used to represent the stock prices over time. It is suitable for displaying trends and changes in stock prices over time.\n",
    "\n",
    "#### 2. Candlestick plot: A candlestick plot is a more complex plot that displays the opening and closing prices, as well as the high and low prices of a stock over a given time period. It provides more information than a line plot and is useful for technical analysis.\n",
    "\n",
    "#### 3. Bar plot: A bar plot is similar to a candlestick plot, but it only displays the opening and closing prices of a stock, without the high and low prices. It is also useful for technical analysis.\n",
    "\n",
    "#### 4. Area plot: An area plot can be used to represent the total value of a portfolio or a stock over time. It can be stacked to show the contributions of different stocks or sectors to the total value.\n",
    "\n",
    "#### 5. Scatter plot: A scatter plot can be used to display the relationship between two stocks or between a stock and a market index. It can be used for correlation analysis and risk analysis.\n",
    "\n",
    "#### 6. Heatmap: A heatmap can be used to display the correlation between multiple stocks or sectors. It can help identify trends and patterns in the market."
   ]
  },
  {
   "cell_type": "markdown",
   "id": "9bb09828",
   "metadata": {},
   "source": [
    "### 4. Why is it essential to print a legend on a stock market chart ?\n",
    "\n",
    "#### Solution :- It is essential to print a legend on a stock market chart to help readers understand the data displayed in the chart. A legend provides a key to interpret the different elements of the chart, such as lines, bars, and colors. In the case of a stock market chart, a legend could indicate the various stocks or indices being tracked and their respective symbols or colors. Without a legend, it can be challenging for readers to understand the information being presented accurately."
   ]
  },
  {
   "cell_type": "markdown",
   "id": "77359044",
   "metadata": {},
   "source": [
    "### 5. What is the best way to limit the length of a pandas data frame to less than a year ?\n",
    "\n",
    "#### Solution :- One way to limit the length of a Pandas DataFrame to less than a year is to use the indexing capabilities of Pandas. Specifically, you can use boolean indexing to select only the rows that fall within a specific date range. Here is an example:-"
   ]
  },
  {
   "cell_type": "code",
   "execution_count": 1,
   "id": "cd4abcfb",
   "metadata": {},
   "outputs": [
    {
     "name": "stdout",
     "output_type": "stream",
     "text": [
      "          date  value\n",
      "59  2022-03-01     59\n",
      "60  2022-03-02     60\n",
      "61  2022-03-03     61\n",
      "62  2022-03-04     62\n",
      "63  2022-03-05     63\n",
      "..         ...    ...\n",
      "268 2022-09-26    268\n",
      "269 2022-09-27    269\n",
      "270 2022-09-28    270\n",
      "271 2022-09-29    271\n",
      "272 2022-09-30    272\n",
      "\n",
      "[214 rows x 2 columns]\n"
     ]
    }
   ],
   "source": [
    "import pandas as pd\n",
    "\n",
    "# create example DataFrame with date column\n",
    "df = pd.DataFrame({\n",
    "    'date': pd.date_range('2022-01-01', '2022-12-31'),\n",
    "    'value': range(365)\n",
    "})\n",
    "\n",
    "# create a boolean mask to select only rows within a specific date range\n",
    "mask = (df['date'] >= '2022-03-01') & (df['date'] <= '2022-09-30')\n",
    "\n",
    "# select only the rows that fall within the date range\n",
    "limited_df = df.loc[mask]\n",
    "\n",
    "# print the limited DataFrame\n",
    "print(limited_df)"
   ]
  },
  {
   "cell_type": "markdown",
   "id": "6f513ca4",
   "metadata": {},
   "source": [
    "### 6. What is the definition of a 180-day moving average ?\n",
    "\n",
    "#### Solution :- A 180-day moving average is a technical indicator used in finance and investment analysis that represents the average closing price of a security or market index over the previous 180 trading days. The moving average is calculated by adding up the closing prices of the last 180 days and dividing by 180. As each new trading day occurs, the oldest price in the calculation is dropped, and the newest price is included. The resulting line on a chart is intended to smooth out short-term fluctuations in price and provide an indication of the security's overall trend."
   ]
  },
  {
   "cell_type": "markdown",
   "id": "0c47b248",
   "metadata": {},
   "source": [
    "### 7. Did the chapter's final example use 'indirect' importing ? If so, how exactly do you do it ?\n",
    "\n",
    "#### Solution :- The chapter's final example used indirect importing. Indirect importing in Python allows you to import a module indirectly by importing the parent package of the module and then using the dot notation to access the module. For example, if you have a module named module.py inside a package named package, instead of using import package.module, you can use indirect importing by using import package and then accessing the module module using package.module."
   ]
  },
  {
   "cell_type": "code",
   "execution_count": null,
   "id": "e8ef3c62",
   "metadata": {},
   "outputs": [],
   "source": []
  }
 ],
 "metadata": {
  "kernelspec": {
   "display_name": "Python 3 (ipykernel)",
   "language": "python",
   "name": "python3"
  },
  "language_info": {
   "codemirror_mode": {
    "name": "ipython",
    "version": 3
   },
   "file_extension": ".py",
   "mimetype": "text/x-python",
   "name": "python",
   "nbconvert_exporter": "python",
   "pygments_lexer": "ipython3",
   "version": "3.9.13"
  }
 },
 "nbformat": 4,
 "nbformat_minor": 5
}
