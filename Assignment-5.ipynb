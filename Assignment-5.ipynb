{
 "cells": [
  {
   "cell_type": "markdown",
   "id": "a81c70fa",
   "metadata": {},
   "source": [
    "# Assignment-5\n",
    "\n",
    "## - by Akash Nandi"
   ]
  },
  {
   "cell_type": "markdown",
   "id": "6fe654b1",
   "metadata": {},
   "source": [
    "### 1. What is the meaning of multiple inheritance ?\n",
    "\n",
    "#### Solution :- Multiple inheritance is a feature in object-oriented programming that allows a class to inherit attributes and methods from multiple parent classes. In multiple inheritance, a child class is created by inheriting from two or more parent classes. When a child class inherits from multiple parent classes, it inherits all the attributes and methods from each of the parent classes. This means that the child class can have behavior from multiple sources, which can be useful in certain situations."
   ]
  },
  {
   "cell_type": "markdown",
   "id": "4f26e290",
   "metadata": {},
   "source": [
    "### 2. What is the concept of delegation ?\n",
    "\n",
    "#### Solution :- Delegation is a design pattern in object-oriented programming that allows objects to pass responsibility for a task to another object. In delegation, an object delegates a specific task or set of tasks to another object, which is responsible for performing those tasks on behalf of the original object. The main idea behind delegation is to divide the responsibility for a task between different objects, making it easier to manage complex systems and ensuring that each object has a clearly defined role and responsibility. This can help to improve code maintainability, modularity, and flexibility, since objects can be easily composed and reused in different contexts."
   ]
  },
  {
   "cell_type": "markdown",
   "id": "772f1fcf",
   "metadata": {},
   "source": [
    "### 3. What is the concept of composition ?\n",
    "\n",
    "#### Solution :- Composition is a design technique in object-oriented programming that allows objects to be composed of other objects as parts, allowing complex functionality to be built from simpler, more focused objects. The basic idea behind composition is to create new objects by combining or \"composing\" existing objects. This is often achieved by creating a new object that contains references to other objects, which it uses to implement its functionality."
   ]
  },
  {
   "cell_type": "markdown",
   "id": "537f5891",
   "metadata": {},
   "source": [
    "### 4. What are bound methods and how do we use them ?\n",
    "#### Solution :- In Python, a bound method is a method that is bound to an instance of a class. When a bound method is called, the instance on which it is called is automatically passed as the first argument (which is usually called self)."
   ]
  },
  {
   "cell_type": "markdown",
   "id": "78673061",
   "metadata": {},
   "source": [
    "### 5. What is the purpose of pseudoprivate attributes ?\n",
    "#### Solution :- Pseudoprivate attributes are a convention for making attributes private to a class, by adding a double underscore prefix to the attribute name. The purpose of pseudoprivate attributes is to provide a way to encapsulate data within a class, and to prevent outside code from directly accessing or modifying that data. By convention, attributes with a double underscore prefix are considered \"private\" to the class, and are not intended to be accessed or modified from outside the class."
   ]
  },
  {
   "cell_type": "code",
   "execution_count": null,
   "id": "e5587c35",
   "metadata": {},
   "outputs": [],
   "source": []
  }
 ],
 "metadata": {
  "kernelspec": {
   "display_name": "Python 3 (ipykernel)",
   "language": "python",
   "name": "python3"
  },
  "language_info": {
   "codemirror_mode": {
    "name": "ipython",
    "version": 3
   },
   "file_extension": ".py",
   "mimetype": "text/x-python",
   "name": "python",
   "nbconvert_exporter": "python",
   "pygments_lexer": "ipython3",
   "version": "3.9.7"
  }
 },
 "nbformat": 4,
 "nbformat_minor": 5
}
