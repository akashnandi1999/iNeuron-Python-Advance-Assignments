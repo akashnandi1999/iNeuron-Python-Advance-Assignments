{
 "cells": [
  {
   "cell_type": "markdown",
   "id": "0d3342dd",
   "metadata": {},
   "source": [
    "# Assignment-20\n",
    "\n",
    "## - by Akash Nandi"
   ]
  },
  {
   "cell_type": "markdown",
   "id": "bb5061fc",
   "metadata": {},
   "source": [
    "### 1. Compare and contrast the float and Decimal classes&#39; benefits and drawbacks.\n",
    "\n",
    "#### Solution :- Both float and Decimal are numeric classes in Python, but there are some differences in their benefits and drawbacks. float is a built-in Python class that represents a floating-point number. It is faster and more memory-efficient than the Decimal class. The float class supports all of the standard mathematical operations, and Python uses it for mathematical calculations by default. However, due to the way that floating-point numbers are stored in memory, float is prone to rounding errors and imprecision when working with very large or very small numbers. On the other hand, Decimal is a class from the decimal module in Python that is designed for high-precision decimal arithmetic. It can represent and perform arithmetic on arbitrarily large and small numbers with precision up to the user-specified number of digits. Decimal class provides greater precision and is ideal for financial and monetary calculations where accuracy is essential. However, the Decimal class is slower and more memory-intensive than the float class, so it may not be ideal for use in large calculations or in performance-critical code."
   ]
  },
  {
   "cell_type": "markdown",
   "id": "49fa6532",
   "metadata": {},
   "source": [
    "### 2. Decimal('1.200') and Decimal('1.2') are two objects to consider. In what sense are these the same object ? Are these just two ways of representing the exact same value, or do they correspond to different internal states ?\n",
    "#### Solution :- In Python's Decimal class, Decimal('1.200') and Decimal('1.2') are not the same object, but they represent the same value. They correspond to different internal states since the former has a trailing zero in the fractional part, while the latter does not. When comparing Decimal objects, their values are compared, not their internal states. This means that Decimal('1.200') and Decimal('1.2') will compare equal because they represent the same value. However, their internal states may be different, for example, the precision of the two objects may differ."
   ]
  },
  {
   "cell_type": "markdown",
   "id": "a251b143",
   "metadata": {},
   "source": [
    "### 3. What happens if the equality of Decimal('1.200') and Decimal('1.2') is checked ?\n",
    "\n",
    "#### Solution :- If the equality of Decimal('1.200') and Decimal('1.2') is checked using the == operator, the result will be False. Although the two values represent the same numeric value, they are different Decimal objects with different internal states, as the trailing zero in Decimal('1.200') makes it a distinct object from Decimal('1.2'). To compare the values of two Decimal objects for equality, you can use the compare() method or the == operator with the normalize() method applied to both operands."
   ]
  },
  {
   "cell_type": "markdown",
   "id": "b4995902",
   "metadata": {},
   "source": [
    "### 4. Why is it preferable to start a Decimal object with a string rather than a floating-point value ?\n",
    "\n",
    "#### Solution :- It is preferable to start a Decimal object with a string rather than a floating-point value because the floating-point values are not always represented precisely, and can lead to rounding errors. For example, 0.1 cannot be represented exactly in binary floating-point, and so it may be rounded to the nearest representable value, leading to inaccuracies in calculations. On the other hand, starting a Decimal object with a string ensures that the exact value is represented, avoiding the rounding errors that can occur with floating-point values."
   ]
  },
  {
   "cell_type": "markdown",
   "id": "af6e536c",
   "metadata": {},
   "source": [
    "### 5. In an arithmetic phrase, how simple is it to combine Decimal objects with integers ?\n",
    "\n",
    "#### Solution :- It is very simple to combine Decimal objects with integers in an arithmetic phrase. Decimal objects can be added, subtracted, multiplied, and divided with integers using the standard arithmetic operators such as +, -, *, and /. The Decimal class will automatically convert the integer to a Decimal object with the same precision and scale as the other operand."
   ]
  },
  {
   "cell_type": "markdown",
   "id": "694ffd81",
   "metadata": {},
   "source": [
    "### 6. Can Decimal objects and floating-point values be combined easily ?\n",
    "\n",
    "#### Solution :- In Python, Decimal objects and floating-point values can be combined easily, but it is important to keep in mind that the result may not be what you expect due to the inherent imprecision of floating-point arithmetic. When a Decimal object is combined with a floating-point value, the floating-point value is automatically converted to a Decimal object before the arithmetic operation takes place. However, if the floating-point value has a large number of decimal places or is a repeating decimal, the resulting Decimal object may not be exact. It is generally recommended to perform arithmetic operations with Decimal objects only to maintain precision."
   ]
  },
  {
   "cell_type": "markdown",
   "id": "ec4bd384",
   "metadata": {},
   "source": [
    "### 7. Using the Fraction class but not the Decimal class, give an example of a quantity that can be expressed with absolute precision.\n",
    "\n",
    "#### Solution :- One example of a quantity that can be expressed with absolute precision using the Fraction class is the value of one-third, which is Fraction(1, 3). This can be represented exactly in binary with a repeating pattern of 0.010101... and cannot be represented exactly as a finite decimal number. However, with the Fraction class, we can represent it as a ratio of integers with no loss of precision."
   ]
  },
  {
   "cell_type": "markdown",
   "id": "e49bfd0e",
   "metadata": {},
   "source": [
    "### 8. Describe a quantity that can be accurately expressed by the Decimal or Fraction classes but not by a floating-point value.\n",
    "\n",
    "#### Solution :- A quantity that can be accurately expressed by the Decimal or Fraction classes but not by a floating-point value is a value with repeating decimal places, such as 1/3 or 0.1 (1/10). In floating-point representation, these values cannot be represented precisely and will result in rounding errors. However, Decimal and Fraction classes can represent these values precisely and without loss of information, making them suitable for applications that require high precision, such as financial calculations or scientific computations."
   ]
  },
  {
   "cell_type": "markdown",
   "id": "e0dc484d",
   "metadata": {},
   "source": [
    "### 9. Consider the following two fraction objects: Fraction(1, 2) and Fraction(1, 2). (5, 10). Is the internal state of these two objects the same ? Why do you think that is ?\n",
    "\n",
    "#### Solution :- The internal state of these two objects is the same, even though they are initialized with different arguments. This is because the Fraction class automatically simplifies fractions to their lowest terms. In this case, both Fraction(1, 2) and Fraction(5, 10) simplify to the same value of Fraction(1, 2). The numerator and denominator may be different, but the fraction's value is the same."
   ]
  },
  {
   "cell_type": "markdown",
   "id": "6e73ee4e",
   "metadata": {},
   "source": [
    "### 10. How do the Fraction class and the integer type (int) relate to each other ? Containment or inheritance ?\n",
    "\n",
    "#### Solution :- The Fraction class and the integer type (int) are related by containment, as the Fraction class uses integers to represent the numerator and denominator of a rational number. However, the Fraction class does not inherit from the integer type, as it is a separate class with its own methods and attributes."
   ]
  },
  {
   "cell_type": "code",
   "execution_count": null,
   "id": "03384be6",
   "metadata": {},
   "outputs": [],
   "source": []
  }
 ],
 "metadata": {
  "kernelspec": {
   "display_name": "Python 3 (ipykernel)",
   "language": "python",
   "name": "python3"
  },
  "language_info": {
   "codemirror_mode": {
    "name": "ipython",
    "version": 3
   },
   "file_extension": ".py",
   "mimetype": "text/x-python",
   "name": "python",
   "nbconvert_exporter": "python",
   "pygments_lexer": "ipython3",
   "version": "3.9.13"
  }
 },
 "nbformat": 4,
 "nbformat_minor": 5
}
