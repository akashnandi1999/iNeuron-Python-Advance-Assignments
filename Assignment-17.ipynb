{
 "cells": [
  {
   "cell_type": "markdown",
   "id": "000615f4",
   "metadata": {},
   "source": [
    "# Assignment-17\n",
    "\n",
    "## - by Akash Nandi"
   ]
  },
  {
   "cell_type": "markdown",
   "id": "f2474c76",
   "metadata": {},
   "source": [
    "### 1. Explain the difference between greedy and non-greedy syntax with visual terms in as few words as possible. What is the bare minimum effort required to transform a greedy pattern into a non-greedy one? What characters or characters can you introduce or change ?\n",
    "\n",
    "#### Solution :- Greedy syntax in regular expressions tries to match as much of the input string as possible, while non-greedy syntax matches as little as possible.\n",
    "\n",
    "#### For example, the greedy pattern .* would match the entire input string, while the non-greedy pattern .*? would only match up to the first occurrence of the next pattern. To transform a greedy pattern into a non-greedy one, we can introduce the ? character immediately after the quantifier. For example, *? instead of *, +? instead of +, or ?? instead of ?."
   ]
  },
  {
   "cell_type": "markdown",
   "id": "703e50bd",
   "metadata": {},
   "source": [
    "### 2. When exactly does greedy versus non-greedy make a difference?  What if you're looking for a non-greedy match but the only one available is greedy ?\n",
    "\n",
    "#### Solution :- Greedy versus non-greedy matching makes a difference when there are multiple possible matches for a given pattern in a text. In such cases, a greedy match will try to match as much of the text as possible, while a non-greedy match will try to match as little as possible.\n",
    "\n",
    "#### For example, consider the text \"ababab\". The pattern \"ab.ab\" would match the entire text in a greedy manner, while \"ab.?ab\" would match only the first occurrence of \"ab\".\n",
    "\n",
    "#### If we're looking for a non-greedy match but the only one available is greedy, then we can try to modify the pattern to make it non-greedy by adding the ? operator. However, there may be cases where it's not possible to get a non-greedy match using regular expressions alone. In such cases, we may need to use other techniques, such as splitting the text and processing it in multiple passes, to get the desired result."
   ]
  },
  {
   "cell_type": "markdown",
   "id": "017ffaa8",
   "metadata": {},
   "source": [
    "### 3. In a simple match of a string, which looks only for one match and does not do any replacement, is the use of a nontagged group likely to make any practical difference ?\n",
    "\n",
    "#### Solution :- In a simple match of a string that looks for only one match and does not do any replacement, the use of a non-tagged group is unlikely to make any practical difference.\n",
    "\n",
    "#### A non-tagged group is a group in a regular expression that is used for grouping, but does not capture the matched text. This means that the matched text within the group cannot be accessed later in the code.\n",
    "\n",
    "#### In a simple match where only one match is being searched for, the matched text can be accessed directly from the match object returned by the re.search() function, without the need for using groups.\n",
    "\n",
    "#### However, there may be cases where a non-tagged group can be useful for organizational purposes, such as grouping together multiple expressions that need to be matched together. In such cases, the use of non-tagged groups can make the regular expression easier to read and understand."
   ]
  },
  {
   "cell_type": "markdown",
   "id": "6b10b8cf",
   "metadata": {},
   "source": [
    "### 4. Describe a scenario in which using a nontagged category would have a significant impact on the program's outcomes.\n",
    "\n",
    "#### Solution :- A scenario where using a non-tagged category in regular expressions could have a significant impact on program outcomes is when performing a large number of string replacements using the re.sub() function.\n",
    "\n",
    "#### When using re.sub() to replace multiple occurrences of a pattern in a text, the use of a non-tagged group can significantly impact the performance of the program. This is because the re.sub() function creates a copy of the original text for each replacement, and each copy includes the text that matches the non-tagged group."
   ]
  },
  {
   "cell_type": "markdown",
   "id": "35fe8041",
   "metadata": {},
   "source": [
    "### 5. Unlike a normal regex pattern, a look-ahead condition does not consume the characters it examines. Describe a situation in which this could make a difference in the results of your programme.\n",
    "\n",
    "#### Solution :- The fact that a look-ahead condition does not consume the characters it examines can make a difference in the results of a program when the pattern includes overlapping matches.\n",
    "\n",
    "#### For example, consider the following text:"
   ]
  },
  {
   "cell_type": "code",
   "execution_count": 1,
   "id": "12bfce30",
   "metadata": {},
   "outputs": [],
   "source": [
    "text = \"abcdef\""
   ]
  },
  {
   "cell_type": "markdown",
   "id": "d1c2775e",
   "metadata": {},
   "source": [
    "#### Suppose we want to match all instances of the pattern a(?=bcd) in the text. This pattern will match the \"a\" at the beginning of the text, since it is followed by \"bcd\". However, if we then try to match the pattern (?=bcd)e in the same text, we might expect it to match the \"e\" that follows \"bcd\". But because the look-ahead condition does not consume characters, the \"e\" is not considered as part of the next match, and the look-ahead condition matches the \"d\" instead."
   ]
  },
  {
   "cell_type": "code",
   "execution_count": 2,
   "id": "f4df73e6",
   "metadata": {},
   "outputs": [
    {
     "name": "stdout",
     "output_type": "stream",
     "text": [
      "['a']\n",
      "[]\n"
     ]
    }
   ],
   "source": [
    "import re\n",
    "\n",
    "text = \"abcdef\"\n",
    "\n",
    "pattern1 = r\"a(?=bcd)\"\n",
    "pattern2 = r\"(?=bcd)e\"\n",
    "\n",
    "matches1 = re.findall(pattern1, text)\n",
    "matches2 = re.findall(pattern2, text)\n",
    "\n",
    "print(matches1)  # ['a']\n",
    "print(matches2)  # ['']"
   ]
  },
  {
   "cell_type": "markdown",
   "id": "fb29a51e",
   "metadata": {},
   "source": [
    "#### In this example, the pattern a(?=bcd) matches only the \"a\" at the beginning of the text, because the look-ahead condition does not consume the characters it examines. The pattern (?=bcd)e, on the other hand, does not match anything, because the look-ahead condition matches the \"d\" that follows \"bcd\" instead of the \"e\". To handle overlapping matches like this, it may be necessary to use a different approach, such as manually iterating over the text and checking for matches at each position. Alternatively, a different regular expression pattern that does not rely on overlapping matches could be used."
   ]
  },
  {
   "cell_type": "markdown",
   "id": "31112c95",
   "metadata": {},
   "source": [
    "### 6. In standard expressions, what is the difference between positive look-ahead and negative look-ahead ?\n",
    "\n",
    "#### Solution :- In regular expressions, a positive lookahead and a negative lookahead are both types of lookahead assertions, which are used to check for a pattern without including it in the match.\n",
    "\n",
    "#### A positive lookahead assertion is written as (?=pattern), where pattern is the pattern that is being searched for. The assertion will match if the current position in the string is followed by pattern. For example, the pattern foo(?=bar) will match the substring \"foo\" only if it is immediately followed by \"bar\". The \"bar\" part of the match will not be included in the match.\n",
    "\n",
    "#### A negative lookahead assertion is written as (?!pattern). It will match if the current position in the string is not followed by pattern. For example, the pattern foo(?!bar) will match the substring \"foo\" only if it is not immediately followed by \"bar\". If \"foo\" is followed by any other substring or the end of the string, the match will succeed. Again, the \"bar\" part of the string will not be included in the match.\n",
    "\n",
    "#### The main difference between positive and negative lookahead is that a positive lookahead requires the pattern to be present in the string after the current position, while a negative lookahead requires the pattern to not be present.\n",
    "\n",
    "#### For example, consider the following string: \"abc123\". The pattern (?=\\d) will match the substring \"a\" because it is followed by a digit, while the pattern (?!\\d) will match the substring \"abc\" because it is not followed by a digit."
   ]
  },
  {
   "cell_type": "markdown",
   "id": "d3748959",
   "metadata": {},
   "source": [
    "### 7. What is the benefit of referring to groups by name rather than by number in a standard expression ?\n",
    "\n",
    "#### Solution :- Referring to groups by name instead of by number in a regular expression has several benefits:\n",
    "\n",
    "#### 1. Readability: Group names can make a regular expression more readable and easier to understand. A descriptive name can provide more information about what the group is matching, which can be particularly helpful when dealing with complex expressions.\n",
    "\n",
    "#### 2. Maintainability: Group names can make a regular expression easier to maintain. If the expression changes and the order or number of groups is modified, referring to them by name ensures that the code using the groups does not break.\n",
    "\n",
    "#### 3. Clarity: Group names can make the code using the regular expression more clear and self-documenting. Code that refers to groups by name is more expressive and makes it clear what each group represents.\n",
    "\n",
    "#### 4. Flexibility: Group names can be more flexible than referring to groups by number. If a regular expression changes and a group is added or removed, using group names ensures that code using the groups does not break."
   ]
  },
  {
   "cell_type": "markdown",
   "id": "bc064944",
   "metadata": {},
   "source": [
    "### 8. Can you identify repeated items within a target string using named groups, as in \"The cow jumped over the moon\" ?\n",
    "\n",
    "#### Solution :- Yes, we can use named groups to identify repeated items within a target string. For example, suppose we want to identify all the repeated words in the string \"The cow jumped over the moon\". We can use the following regular expression:"
   ]
  },
  {
   "cell_type": "code",
   "execution_count": null,
   "id": "4ee1c29e",
   "metadata": {},
   "outputs": [],
   "source": [
    "\\b(?P<word>\\w+)\\b(?=.*\\b\\1\\b)"
   ]
  },
  {
   "cell_type": "markdown",
   "id": "ea821094",
   "metadata": {},
   "source": [
    "#### This regular expression uses a named capture group called word to match any word character (\\w+) surrounded by word boundaries (\\b). It then uses a positive lookahead assertion (?=.*\\b\\1\\b) to check whether the same word occurs later in the string. The \\1 backreference refers to the value of the first named capture group (word), which ensures that only repeated words are matched.\n",
    "\n",
    "#### When we apply this regular expression to the string \"The cow jumped over the moon\", it will match the word \"the\", which appears twice in the string. The regular expression will not match the words \"cow\", \"jumped\", \"over\", or \"moon\", because they do not occur more than once in the string."
   ]
  },
  {
   "cell_type": "markdown",
   "id": "c212a4b7",
   "metadata": {},
   "source": [
    "### 9. When parsing a string, what is at least one thing that the Scanner interface does for you that the re.findall feature does not ?\n",
    "\n",
    "#### Solution :- The Scanner interface in Java provides a way to parse a string using regular expressions by breaking it into tokens, whereas the re.findall() function in Python returns a list of all non-overlapping matches in the string. One thing that the Scanner interface does for us that re.findall() does not do in Python is that it allows us to extract information from the matched pattern using named capture groups.\n",
    "\n",
    "#### Named capture groups are a feature of regular expressions that allow us to assign a name to a specific part of the pattern that we want to extract. When a match is found, the captured text can be retrieved using the group name instead of the numerical group index.\n",
    "#### Here's an example of how wean use named capture groups with the re module in Python:"
   ]
  },
  {
   "cell_type": "code",
   "execution_count": 9,
   "id": "59e1767b",
   "metadata": {},
   "outputs": [],
   "source": [
    "import re\n",
    "\n",
    "# Define the pattern with named capture groups\n",
    "pattern = r'(?P<year>\\d{4})-(?P<month>\\d{2})-(?P<day>\\d{2})'\n",
    "\n",
    "# Test string\n",
    "text = 'Today is 2023-05-11'\n",
    "\n",
    "# Find all matches in the text\n",
    "matches = re.findall(pattern, text)\n",
    "\n",
    "# Extract information from the named capture groups\n",
    "for match in matches:\n",
    "    year = match['year']\n",
    "    month = match['month']\n",
    "    day = match['day']"
   ]
  },
  {
   "cell_type": "markdown",
   "id": "4b36fc59",
   "metadata": {},
   "source": [
    "#### In this example, we define a pattern with named capture groups for a date in the format \"YYYY-MM-DD\". We then use the re.findall() function to find all matches of the pattern in a test string. Finally, we extract the year, month, and day information from each match using the group names."
   ]
  },
  {
   "cell_type": "markdown",
   "id": "82b38b26",
   "metadata": {},
   "source": [
    "### 10. Does a scanner object have to be named scanner ?\n",
    "\n",
    "#### Solution :- The Scanner interface is a Java class that provides a way to parse a string using regular expressions by breaking it into tokens. In Python, there is no built-in Scanner class, but we can achieve similar functionality using regular expressions and other string manipulation tools available in the language. Therefore, there is no requirement to name an object \"scanner\" when parsing a string in Python. We can name our objects whatever we like, as long as the names are valid Python identifiers and don't clash with any built-in keywords or functions."
   ]
  },
  {
   "cell_type": "code",
   "execution_count": null,
   "id": "04950a3c",
   "metadata": {},
   "outputs": [],
   "source": []
  }
 ],
 "metadata": {
  "kernelspec": {
   "display_name": "Python 3 (ipykernel)",
   "language": "python",
   "name": "python3"
  },
  "language_info": {
   "codemirror_mode": {
    "name": "ipython",
    "version": 3
   },
   "file_extension": ".py",
   "mimetype": "text/x-python",
   "name": "python",
   "nbconvert_exporter": "python",
   "pygments_lexer": "ipython3",
   "version": "3.9.13"
  }
 },
 "nbformat": 4,
 "nbformat_minor": 5
}
