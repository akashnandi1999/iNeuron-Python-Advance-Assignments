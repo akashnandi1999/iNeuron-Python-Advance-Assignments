{
 "cells": [
  {
   "cell_type": "markdown",
   "id": "47b6560e",
   "metadata": {},
   "source": [
    "# Assignment-10\n",
    "\n",
    "## - by Akash Nandi "
   ]
  },
  {
   "cell_type": "markdown",
   "id": "a0242c06",
   "metadata": {},
   "source": [
    "### 1. What is the difference between __getattr__ and __getattribute__ ?\n",
    "\n",
    "#### Solution :- __getattr__ and __getattribute__ are two special methods in Python that are used to define how attribute access works on an object. \n",
    "\n",
    "#### __getattr__ is called when an attribute lookup fails on an object. It takes a single argument, the name of the attribute being accessed, and should return the value of the attribute or raise an AttributeError if the attribute does not exist.\n",
    "\n",
    "#### For example, if obj.attr is accessed and obj does not have an attribute named attr, then obj.__getattr__('attr') will be called.\n",
    "\n",
    "#### __getattribute__ is called whenever an attribute is accessed on an object, regardless of whether the attribute exists or not. It takes a single argument, the name of the attribute being accessed, and should return the value of the attribute or raise an AttributeError if the attribute does not exist.\n",
    "\n",
    "#### For example, if obj.attr is accessed, then obj.__getattribute__('attr') will be called, regardless of whether obj actually has an attribute named attr.\n",
    "\n",
    "#### The key difference between these two methods is that __getattr__ is only called when the attribute being accessed does not exist, while __getattribute__ is called for all attribute access. In addition, __getattribute__ is a more low-level method and can potentially cause infinite recursion if not implemented carefully."
   ]
  },
  {
   "cell_type": "markdown",
   "id": "69cfe96b",
   "metadata": {},
   "source": [
    "### 2. What is the difference between properties and descriptors ?\n",
    "\n",
    "#### Solution :- In Python, properties and descriptors are both mechanisms for controlling access to attributes of an object, but they differ in their approach and functionality.\n",
    "\n",
    "#### A property is a built-in Python mechanism that allows you to define methods that are accessed like attributes. A property is essentially a way of adding getter, setter, and deleter methods to an attribute, so that when the attribute is accessed or modified, the methods are called automatically. Properties are often used to add validation or computation to attributes, or to make them read-only or write-only.\n",
    "\n",
    "#### A descriptor is a more general mechanism that allows us to define custom behavior for attribute access, beyond what is possible with properties alone. A descriptor is an object that defines one or more of the methods get(), set(), and delete(), which are called when the attribute is accessed, assigned to, or deleted, respectively. Descriptors can be used to implement custom validation, lazy evaluation, caching, or other behaviors."
   ]
  },
  {
   "cell_type": "markdown",
   "id": "ae4a0ccb",
   "metadata": {},
   "source": [
    "### 3. What are the key differences in functionality between __getattr__ and __getattribute__, as well as properties and descriptors ?\n",
    "\n",
    "#### Solution :- Both __getattr__ and __getattribute__ are special methods in Python that are used to handle attribute access in classes. However, they have some key differences in functionality:\n",
    "\n",
    "#### __getattr__ is called when an attribute lookup fails, that is, when an attribute is not found in an object's dictionary. It takes a single argument, the name of the attribute being accessed. __getattr__ can be used to dynamically create attributes, provide default values for attributes, or raise an AttributeError if the attribute is not found.\n",
    "\n",
    "#### __getattribute__ is called for every attribute access, regardless of whether the attribute is present in the object's dictionary or not. It takes a single argument, the name of the attribute being accessed. __getattribute__ can be used to intercept all attribute access to an object and perform some additional processing or validation before returning the attribute value.\n",
    "\n",
    "#### Properties and descriptors are also used for attribute access, but they are more specialized than __getattr__ and __getattribute__:\n",
    "\n",
    "#### A property is a special kind of attribute that is accessed like a regular attribute but actually triggers a method call behind the scenes. A property allows you to define a method that is used to calculate or modify an attribute's value, while still providing a simple attribute access syntax. Properties are created using the @property decorator.\n",
    "\n",
    "#### A descriptor is a more general mechanism for controlling attribute access in Python. A descriptor is an object that defines one or more of the following special methods: __get__, __set__, and __delete__. These methods are called by the interpreter whenever the descriptor is accessed or assigned to. Descriptors can be used to validate or transform attribute values, or to provide custom behavior for attribute access. Descriptors are often used in conjunction with properties to provide more fine-grained control over attribute access."
   ]
  },
  {
   "cell_type": "code",
   "execution_count": null,
   "id": "444c58b4",
   "metadata": {},
   "outputs": [],
   "source": []
  }
 ],
 "metadata": {
  "kernelspec": {
   "display_name": "Python 3 (ipykernel)",
   "language": "python",
   "name": "python3"
  },
  "language_info": {
   "codemirror_mode": {
    "name": "ipython",
    "version": 3
   },
   "file_extension": ".py",
   "mimetype": "text/x-python",
   "name": "python",
   "nbconvert_exporter": "python",
   "pygments_lexer": "ipython3",
   "version": "3.9.7"
  }
 },
 "nbformat": 4,
 "nbformat_minor": 5
}
