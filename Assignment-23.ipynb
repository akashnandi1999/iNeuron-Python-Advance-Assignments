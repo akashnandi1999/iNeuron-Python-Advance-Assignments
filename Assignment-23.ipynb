{
 "cells": [
  {
   "cell_type": "markdown",
   "id": "0e2e5d82",
   "metadata": {},
   "source": [
    "# Assignment-23\n",
    "\n",
    "## - by Akash Nandi"
   ]
  },
  {
   "cell_type": "markdown",
   "id": "03f17fdb",
   "metadata": {},
   "source": [
    "### 1. If you have any, what are your choices for increasing the comparison between different figures on the same graph ?\n",
    "\n",
    "#### Solution :- There are several options for increasing the comparison between different figures on the same graph:\n",
    "\n",
    "#### 1. Change the colors: Use contrasting colors that are easily distinguishable from each other. Avoid using colors that are similar or that may blend together, such as green and yellow.\n",
    "\n",
    "#### 2. Use different line styles: Use different line styles, such as dashed, dotted, or solid lines, to distinguish between different figures. This can be particularly useful if the figures are represented by lines on the graph.\n",
    "\n",
    "#### 3. Add labels: Add labels to the figures to clearly indicate what they represent. This can be done using a legend or directly labeling the figures on the graph.\n",
    "\n",
    "#### 4. Adjust the scale: Adjust the scale of the graph to ensure that all figures are visible and that differences between them are clear. This can involve changing the range of the axes or adjusting the size of the graph itself.\n",
    "\n",
    "#### 5. Use subplots: Use subplots to separate different figures into different areas of the graph. This can help to make it easier to compare and contrast different figures."
   ]
  },
  {
   "cell_type": "markdown",
   "id": "75edcb34",
   "metadata": {},
   "source": [
    "### 2. Can you explain the benefit of compound interest over a higher rate of interest that does not compound after reading this chapter ?\n",
    "\n",
    "#### Solution :- Compound interest refers to the practice of adding accumulated interest back into the principal amount, resulting in a higher balance and therefore, more interest earned in the future. This can be contrasted with a higher rate of interest that does not compound, where the interest earned is only based on the initial principal amount.\n",
    "\n",
    "#### The benefit of compound interest is that it allows our money to grow at a faster rate over time. This is because the interest earned in one period is added to the principal amount and earns interest in the next period, resulting in a compounding effect. This means that the longer the money is left to accumulate, the more interest is earned, and the greater the overall return on investment.\n",
    "\n",
    "#### In contrast, a higher rate of interest that does not compound will earn a fixed amount of interest based on the initial principal amount, with no growth or compounding effect over time. While a higher rate of interest may initially result in a higher return, it may not necessarily lead to a higher overall return over the long term.\n",
    "\n",
    "#### Therefore, the benefit of compound interest is that it allows for greater growth and earning potential over time, resulting in a higher overall return on investment compared to a higher rate of interest that does not compound."
   ]
  },
  {
   "cell_type": "markdown",
   "id": "ed4708d9",
   "metadata": {},
   "source": [
    "### 3. What is a histogram, exactly ? Name a numpy method for creating such a graph.\n",
    "\n",
    "#### Solution :- A histogram is a graphical representation of the distribution of a set of continuous numerical data. It consists of a series of rectangles or bars of equal width, where the area of each rectangle represents the frequency or count of data values falling within a certain range or bin.\n",
    "\n",
    "#### In a histogram, the data range is divided into a set of contiguous, non-overlapping intervals called bins. The number of data points falling within each bin is counted and plotted as a bar with height proportional to the count.\n",
    "\n",
    "#### In numpy, the histogram method can be used to create a histogram. The method takes as input an array of data values and returns the count of data values falling within each bin, as well as the bin edges. The matplotlib library can then be used to plot the histogram using the bin edges and counts returned by the numpy.histogram method. For example:"
   ]
  },
  {
   "cell_type": "code",
   "execution_count": 1,
   "id": "48fea12a",
   "metadata": {},
   "outputs": [
    {
     "data": {
      "image/png": "[encoded data removed]",
      "text/plain": [
       "<Figure size 640x480 with 1 Axes>"
      ]
     },
     "metadata": {},
     "output_type": "display_data"
    }
   ],
   "source": [
    "import numpy as np\n",
    "import matplotlib.pyplot as plt\n",
    "\n",
    "# generate some random data\n",
    "data = np.random.normal(size=1000)\n",
    "\n",
    "# create a histogram with 10 bins\n",
    "counts, bin_edges = np.histogram(data, bins=10)\n",
    "\n",
    "# plot the histogram\n",
    "plt.bar(bin_edges[:-1], counts, width=0.1)\n",
    "plt.show()"
   ]
  },
  {
   "cell_type": "markdown",
   "id": "4d07f70a",
   "metadata": {},
   "source": [
    "### 4. If necessary, how do you change the aspect ratios between the X and Y axes ?\n",
    "\n",
    "#### Solution :- In matplotlib, we can adjust the aspect ratio of the axes using the plt.axis or ax.set_aspect methods. The plt.axis method takes a list of four values in the form [xmin, xmax, ymin, ymax], where xmin and xmax are the minimum and maximum values for the x-axis, and ymin and ymax are the minimum and maximum values for the y-axis. By adjusting the range of values for the x and y axes, we can change the aspect ratio of the plot. For example, to set the aspect ratio of the plot to be equal, we can use:"
   ]
  },
  {
   "cell_type": "code",
   "execution_count": 2,
   "id": "a163cea1",
   "metadata": {},
   "outputs": [
    {
     "data": {
      "image/png": "[encoded data removed]",
      "text/plain": [
       "<Figure size 640x480 with 1 Axes>"
      ]
     },
     "metadata": {},
     "output_type": "display_data"
    }
   ],
   "source": [
    "import matplotlib.pyplot as plt\n",
    "\n",
    "# create some data\n",
    "x = [1, 2, 3, 4]\n",
    "y = [10, 20, 30, 40]\n",
    "\n",
    "# create a plot\n",
    "plt.plot(x, y)\n",
    "\n",
    "# set aspect ratio to be equal\n",
    "plt.axis('equal')\n",
    "\n",
    "# display the plot\n",
    "plt.show()"
   ]
  },
  {
   "cell_type": "markdown",
   "id": "775174b9",
   "metadata": {},
   "source": [
    "#### Alternatively, we can use the ax.set_aspect method to set the aspect ratio of an individual subplot. This method takes a single argument, which specifies the aspect ratio as a string or a number. For example, to set the aspect ratio of a subplot to be 2:1, we can use:"
   ]
  },
  {
   "cell_type": "code",
   "execution_count": 3,
   "id": "fdb8b9a9",
   "metadata": {},
   "outputs": [
    {
     "data": {
      "image/png": "[encoded data removed]",
      "text/plain": [
       "<Figure size 640x480 with 1 Axes>"
      ]
     },
     "metadata": {},
     "output_type": "display_data"
    }
   ],
   "source": [
    "import matplotlib.pyplot as plt\n",
    "\n",
    "# create a figure with a single subplot\n",
    "fig, ax = plt.subplots()\n",
    "\n",
    "# create some data\n",
    "x = [1, 2, 3, 4]\n",
    "y = [10, 20, 30, 40]\n",
    "\n",
    "# plot the data\n",
    "ax.plot(x, y)\n",
    "\n",
    "# set aspect ratio to 2:1\n",
    "ax.set_aspect(2)\n",
    "\n",
    "# display the plot\n",
    "plt.show()"
   ]
  },
  {
   "cell_type": "markdown",
   "id": "178a98a0",
   "metadata": {},
   "source": [
    "### 5. Compare and contrast the three types of array multiplication between two numpy arrays: dot product, outer product, and regular multiplication of two numpy arrays.\n",
    "\n",
    "#### Solution :- The three types of array multiplication between two numpy arrays are dot product, outer product, and regular multiplication.\n",
    "\n",
    "#### 1. Dot product: The dot product between two arrays is a scalar value obtained by summing the product of the corresponding elements in each array. The dot product operation requires that the two arrays have compatible dimensions: the number of columns in the first array must match the number of rows in the second array. The numpy method for computing the dot product of two arrays is numpy.dot().\n",
    "\n",
    "#### 2. Outer product: The outer product between two arrays is a matrix obtained by multiplying each element of the first array by every element of the second array. The resulting matrix has a dimension equal to the product of the dimensions of the two input arrays. The numpy method for computing the outer product of two arrays is numpy.outer().\n",
    "\n",
    "#### 3. Regular multiplication: The regular multiplication of two arrays is performed element-wise, i.e., the product of the corresponding elements in each array is computed. The two arrays must have the same shape. The numpy method for computing the regular multiplication of two arrays is numpy.multiply()."
   ]
  },
  {
   "cell_type": "markdown",
   "id": "0afa9426",
   "metadata": {},
   "source": [
    "### 6. Before you buy a home, which numpy function will you use to measure your monthly mortgage payment ?\n",
    "\n",
    "#### Solution :- The numpy function that can be used to calculate the monthly mortgage payment is numpy.pmt(). The numpy.pmt() function calculates the payment for a loan based on constant payments and a constant interest rate. It takes three arguments: the interest rate per period (expressed as a decimal), the total number of payment periods, and the total loan amount."
   ]
  },
  {
   "cell_type": "markdown",
   "id": "c52c5eea",
   "metadata": {},
   "source": [
    "### 7. Can string data be stored in numpy arrays ? If so, list at least one restriction that applies to this data.\n",
    "\n",
    "#### Solution :- String data can be stored in numpy arrays using the numpy.array() function with a dtype parameter of 'str' or 'object'.\n",
    "\n",
    "#### However, one restriction that applies to storing string data in numpy arrays is that each element of the array must have the same length. This is because numpy arrays are designed to store homogeneous data, meaning that all elements of the array must have the same data type and size.\n",
    "\n",
    "#### Another restriction is that string operations on numpy arrays can be slow compared to operations on numeric data. This is because numpy arrays are optimized for numerical operations and may not perform as well when working with string data."
   ]
  },
  {
   "cell_type": "code",
   "execution_count": null,
   "id": "477a0193",
   "metadata": {},
   "outputs": [],
   "source": []
  }
 ],
 "metadata": {
  "kernelspec": {
   "display_name": "Python 3 (ipykernel)",
   "language": "python",
   "name": "python3"
  },
  "language_info": {
   "codemirror_mode": {
    "name": "ipython",
    "version": 3
   },
   "file_extension": ".py",
   "mimetype": "text/x-python",
   "name": "python",
   "nbconvert_exporter": "python",
   "pygments_lexer": "ipython3",
   "version": "3.9.13"
  }
 },
 "nbformat": 4,
 "nbformat_minor": 5
}
