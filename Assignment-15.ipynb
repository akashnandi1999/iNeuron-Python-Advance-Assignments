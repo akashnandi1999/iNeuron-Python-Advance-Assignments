{
 "cells": [
  {
   "cell_type": "markdown",
   "id": "35df5ea8",
   "metadata": {},
   "source": [
    "# Assignment-15\n",
    "\n",
    "## - by Akash Nandi"
   ]
  },
  {
   "cell_type": "markdown",
   "id": "82094382",
   "metadata": {},
   "source": [
    "### 1. What are the new features added in Python 3.8 version ?\n",
    "\n",
    "#### Solution :- Python 3.8 was released on October 14, 2019, and introduced several new features and optimizations. Some of the most notable changes include:\n",
    "\n",
    "#### 1. Assignment expressions (the Walrus operator): This new syntax allows you to assign values to variables as part of a larger expression, reducing the need for multiple lines of code. For example, you can write if (n := len(my_list)) > 10: instead of n = len(my_list) on one line and if n > 10: on the next.\n",
    "\n",
    "#### 2. Positional-only parameters: You can now define function parameters that can only be passed positionally (i.e., not as keyword arguments). This can help make the function signature clearer and more concise.\n",
    "\n",
    "#### 3. f-strings support = for self-documenting expressions and debugging: You can now add an equals sign after the expression in an f-string to include the value of the expression in the output for debugging purposes. For example, f'{some_expression=}' would output something like some_expression=42.\n",
    "\n",
    "#### 4. Performance improvements: Several areas of Python have been optimized for speed, including dictionary access, module initialization, and general function calls.\n",
    "\n",
    "#### 5. TypedDict: This new class allows you to create dictionaries with specified key and value types, making it easier to write type-safe code.\n",
    "\n",
    "#### 6. Other minor changes: Other changes include new features like the ability to use underscores in numeric literals to improve readability (1_000_000 instead of 1000000), new debugging and testing features, and improved Unicode support."
   ]
  },
  {
   "cell_type": "markdown",
   "id": "2de32552",
   "metadata": {},
   "source": [
    "### 2. What is monkey patching in Python ?\n",
    "\n",
    "#### Solution :- Monkey patching is a technique in Python where you can modify the behavior of a module, class, or object at runtime by replacing or adding methods or attributes to the module, class or object, without changing the source code of the original module or class."
   ]
  },
  {
   "cell_type": "markdown",
   "id": "81393ad4",
   "metadata": {},
   "source": [
    "### 3. What is the difference between a shallow copy and deep copy ?\n",
    "\n",
    "#### Solution :- In Python, copying an object creates a new object with the same contents as the original. However, there are two types of copy operations: shallow copy and deep copy. The main difference between them is how they handle objects that are nested or referenced by the original object.\n",
    "\n",
    "#### A shallow copy creates a new object that is a reference to the original object, but with any mutable objects inside it (such as lists or dictionaries) copied only at the top level. In other words, the new object contains references to the same objects as the original object, so modifying a mutable object in the new object will affect the original object as well. Shallow copying is done using the copy() method.\n",
    "\n",
    "#### A deep copy, on the other hand, creates a new object with a complete copy of the original object and any objects it references, recursively. In other words, the new object contains completely new copies of all nested objects, so modifying a mutable object in the new object will not affect the original object. Deep copying is done using the deepcopy() function in the copy module."
   ]
  },
  {
   "cell_type": "markdown",
   "id": "7d671805",
   "metadata": {},
   "source": [
    "### 4. What is the maximum possible length of an identifier ?\n",
    "\n",
    "#### Solution :- In Python, the maximum length of an identifier (variable, function, class, module name, etc.) is not explicitly defined. However, the Python documentation recommends using names that are \"short and mnemonic\" to make the code more readable. In practice, most identifiers in Python are relatively short, usually no more than a few words or a combination of words and underscores.\n",
    "\n",
    "#### That being said, the Python implementation does place some practical limits on the length of identifiers. For example, some operating systems limit the length of file names, which can impact the maximum length of module names. Additionally, some Python implementations may have internal limits on the size of identifiers or other objects.\n",
    "\n",
    "#### In general, it's good practice to keep identifiers as short and descriptive as possible, while avoiding overly long names that can make the code harder to read and maintain."
   ]
  },
  {
   "cell_type": "markdown",
   "id": "3f2116e7",
   "metadata": {},
   "source": [
    "### 5. What is generator comprehension ?\n",
    "\n",
    "#### Solution :- Generator comprehension is a concise and memory-efficient way of creating a generator in Python. It is similar to list comprehension, but instead of creating a list, it generates a series of values on the fly, as needed."
   ]
  },
  {
   "cell_type": "code",
   "execution_count": null,
   "id": "6425b420",
   "metadata": {},
   "outputs": [],
   "source": []
  }
 ],
 "metadata": {
  "kernelspec": {
   "display_name": "Python 3 (ipykernel)",
   "language": "python",
   "name": "python3"
  },
  "language_info": {
   "codemirror_mode": {
    "name": "ipython",
    "version": 3
   },
   "file_extension": ".py",
   "mimetype": "text/x-python",
   "name": "python",
   "nbconvert_exporter": "python",
   "pygments_lexer": "ipython3",
   "version": "3.9.13"
  }
 },
 "nbformat": 4,
 "nbformat_minor": 5
}
