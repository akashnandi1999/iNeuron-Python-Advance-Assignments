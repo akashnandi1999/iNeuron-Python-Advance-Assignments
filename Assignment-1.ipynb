{
 "cells": [
  {
   "cell_type": "markdown",
   "id": "37ffb26a",
   "metadata": {},
   "source": [
    "# Assignment-1\n",
    "\n",
    "## - by Akash Nandi "
   ]
  },
  {
   "cell_type": "markdown",
   "id": "b1791ca2",
   "metadata": {},
   "source": [
    "### 1. What is the purpose of Python's OOP?\n",
    "\n",
    "#### Solution :- OOP is a way of programming that provides a means of structuring programs so that properties and behaviors are bundled into individual objects. It aims to implement real-world entities like inheritance, polymorphisms, encapsulation, Abstraction etc. in the programming. The main concept of OOPs is to bind the data and the functions that work on that together as a single unit so that no other part of the code can access this data."
   ]
  },
  {
   "cell_type": "markdown",
   "id": "dc61ab99",
   "metadata": {},
   "source": [
    "### 2. Where does an inheritance search look for an attribute ?\n",
    "\n",
    "#### Solution :- An inheritance search looks for an attribute first in the instance object, then in the class the instance was created from, then in all higher superclasses. The search stops at the first place where the attribute is found."
   ]
  },
  {
   "cell_type": "markdown",
   "id": "4233a45e",
   "metadata": {},
   "source": [
    "### 3. How do you distinguish between a class object and an instance object ?\n",
    "\n",
    "#### Solution :- Class variables are declared inside a class but outside of any function. Instance variables are declared inside the constructor which is the __init__method."
   ]
  },
  {
   "cell_type": "markdown",
   "id": "1b6790fd",
   "metadata": {},
   "source": [
    "### 4. What makes the first argument in a class’s method function special ?\n",
    "\n",
    "#### Solution :- 'self' is the first argument in a class's method function special. When we define a class in Python, every method that we define, must accept that instance as its first argument (self). The 'self' variable points to the instance of the class that we are working with."
   ]
  },
  {
   "cell_type": "markdown",
   "id": "c82b91f9",
   "metadata": {},
   "source": [
    "### 5. What is the purpose of the __init__ method ?\n",
    "#### Solution :- The __init__ method is declared within a class and is used to initialize the attributes of an object as soon as the object is formed. Basically, to define a constructor we define __init__ method in python. While giving the definition for an __init__(self) method, a default parameter, named 'self' is always passed in its argument."
   ]
  },
  {
   "cell_type": "markdown",
   "id": "eaed6b5b",
   "metadata": {},
   "source": [
    "### 6. What is the process for creating a class instance ?\n",
    "\n",
    "#### Solution :- To create instances of a class, we call the class using class name and pass in whatever arguments its __init__ method accepts."
   ]
  },
  {
   "cell_type": "markdown",
   "id": "9ee2e7e4",
   "metadata": {},
   "source": [
    "### 7. What is the process for creating a class ?\n",
    "\n",
    "#### Solution :- Use the keyword 'class' and give the desired classname following with ':'."
   ]
  },
  {
   "cell_type": "markdown",
   "id": "1cce7445",
   "metadata": {},
   "source": [
    "### 8. How would you define the superclasses of a class ?\n",
    "\n",
    "#### Solution :- The class from which a class inherits is called the parent or superclass. A class which inherits from a superclass is called a subclass, also called heir class or child class."
   ]
  }
 ],
 "metadata": {
  "kernelspec": {
   "display_name": "Python 3 (ipykernel)",
   "language": "python",
   "name": "python3"
  },
  "language_info": {
   "codemirror_mode": {
    "name": "ipython",
    "version": 3
   },
   "file_extension": ".py",
   "mimetype": "text/x-python",
   "name": "python",
   "nbconvert_exporter": "python",
   "pygments_lexer": "ipython3",
   "version": "3.9.7"
  }
 },
 "nbformat": 4,
 "nbformat_minor": 5
}
