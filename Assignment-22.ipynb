{
 "cells": [
  {
   "cell_type": "markdown",
   "id": "afeb3e09",
   "metadata": {},
   "source": [
    "# Assignment-22\n",
    "\n",
    "## - by Akash Nandi"
   ]
  },
  {
   "cell_type": "markdown",
   "id": "916a16fb",
   "metadata": {},
   "source": [
    "### 1. What are the benefits of the built-in array package, if any ?\n",
    "\n",
    "#### Solution :- The built-in array module in Python provides a way to create and manipulate arrays of homogeneous data types more efficiently than using a standard list. The main benefits of using the array module include:\n",
    "\n",
    "#### 1. Memory efficiency: Arrays created with the array module are more memory-efficient than lists, as they store data in a contiguous block of memory. This means that accessing elements in an array is faster than accessing elements in a list, especially for large arrays.\n",
    "\n",
    "#### 2. Performance: Because arrays in Python are homogeneous (i.e., all elements are of the same data type), the array module can optimize certain operations to run more efficiently than with lists. For example, the array module provides built-in methods for performing mathematical operations on arrays, such as adding or multiplying arrays element-wise.\n",
    "\n",
    "#### 3. Interoperability with C code: The array module provides a way to create arrays with data types that match those used in C code, which can be useful for interfacing with C libraries or writing performance-critical code.\n",
    "\n",
    "#### 4. Type checking: Unlike lists, arrays created with the array module are typed, meaning that they can only contain elements of a specific data type. This helps catch errors early and makes code more reliable."
   ]
  },
  {
   "cell_type": "markdown",
   "id": "56d83e82",
   "metadata": {},
   "source": [
    "### 2. What are some of the array package's limitations ?\n",
    "\n",
    "#### Solution :- While the array package in Python has many benefits, it also has some limitations that may make it less suitable for certain use cases:\n",
    "\n",
    "#### 1. Limited data types: The array module only supports a limited set of data types, including integers, floating-point numbers, and other numeric types. It does not support more complex data types like strings or objects.\n",
    "\n",
    "#### 2. Fixed size: Once an array is created, its size cannot be changed. This means that if we need to add or remove elements from an array, we will need to create a new array and copy the data over, which can be time-consuming for large arrays.\n",
    "\n",
    "#### 3. Limited functionality: While the array module provides some built-in functions for performing mathematical operations on arrays, it does not provide many of the more advanced functions available in other numerical libraries like NumPy.\n",
    "\n",
    "#### 4. Lack of indexing flexibility: Unlike lists, arrays created with the array module can only be indexed using integers, which can be limiting in certain situations.\n",
    "\n",
    "#### 5. No built-in support for multidimensional arrays: The array module only supports one-dimensional arrays. If we need to work with multidimensional arrays, we will need to use a different library like NumPy."
   ]
  },
  {
   "cell_type": "markdown",
   "id": "c5b402bb",
   "metadata": {},
   "source": [
    "### 3. Describe the main differences between the array and numpy packages.\n",
    "\n",
    "#### Solution :- Both the array module and the numpy package in Python provide ways to work with arrays of homogeneous data types. However, there are several key differences between the two:\n",
    "\n",
    "#### 1. Functionality: The numpy package provides a much more extensive set of functions for working with arrays than the array module. numpy includes functions for reshaping, indexing, and manipulating arrays, as well as a wide range of mathematical functions and statistical tools.\n",
    "\n",
    "#### 2. Data types: While the array module only supports a limited set of data types (such as integers and floating-point numbers), numpy supports a much wider range of data types, including complex numbers, strings, and custom data types.\n",
    "\n",
    "#### 3. Multidimensional arrays: Unlike the array module, numpy supports multidimensional arrays, making it easier to work with complex data structures.\n",
    "\n",
    "#### 4. Broadcasting: numpy provides a powerful broadcasting feature that allows mathematical operations to be performed on arrays of different shapes and sizes, making it easier to write vectorized code.\n",
    "\n",
    "#### 5. Performance: While the array module provides some performance benefits over lists, numpy is generally much faster for numerical computations. This is due in part to the fact that numpy is implemented in C, and also because it provides more efficient algorithms for common operations.\n",
    "\n",
    "#### 6. Compatibility with other libraries: numpy is a widely used library in the scientific computing community and is compatible with many other libraries and tools, making it easier to integrate into larger projects."
   ]
  },
  {
   "cell_type": "markdown",
   "id": "90a1e0bf",
   "metadata": {},
   "source": [
    "### 4. Explain the distinctions between the empty, ones, and zeros functions.\n",
    "\n",
    "#### Solution :- In NumPy, the empty, ones, and zeros functions are used to create arrays of a specified size and data type. Here are the distinctions between these functions:\n",
    "\n",
    "#### 1. numpy.empty:- This function creates a new array without initializing its values. The empty function takes in a shape parameter that specifies the size of the array to be created, and an optional dtype parameter that specifies the data type of the array. The values in the array are not guaranteed to be zero or any other specific value.\n",
    "\n",
    "#### 2. numpy.zeros:- This function creates a new array filled with zeros. The zeros function takes in a shape parameter that specifies the size of the array to be created, and an optional dtype parameter that specifies the data type of the array. All elements in the resulting array will be initialized to 0.\n",
    "\n",
    "#### 3. numpy.ones:- This function creates a new array filled with ones. The ones function takes in a shape parameter that specifies the size of the array to be created, and an optional dtype parameter that specifies the data type of the array. All elements in the resulting array will be initialized to one."
   ]
  },
  {
   "cell_type": "markdown",
   "id": "d1254934",
   "metadata": {},
   "source": [
    "### 5. In the fromfunction function, which is used to construct new arrays, what is the role of the callable argument ?\n",
    "#### Solution :- In NumPy, the fromfunction function is used to create a new array by applying a given function to each coordinate of the array. The role of the callable argument in the fromfunction function is to specify the function to be applied to the coordinates.\n",
    "\n",
    "#### The callable argument should be a function that takes in the indices of the array as arguments, and returns a value based on those indices. The function should take as many arguments as there are dimensions in the output array. For example, if the output array is two-dimensional with shape (m, n), then the function should take two arguments representing the row and column indices."
   ]
  },
  {
   "cell_type": "markdown",
   "id": "15ca77de",
   "metadata": {},
   "source": [
    "### 6. What happens when a numpy array is combined with a single-value operand (a scalar, such as an int or a floating-point value) through addition, as in the expression A + n ?\n",
    "\n",
    "#### Solution :- In NumPy, when a numpy array is combined with a single-value operand (a scalar), such as an int or a floating-point value, through addition, NumPy performs element-wise addition. That is, the scalar operand is added to each element in the array."
   ]
  },
  {
   "cell_type": "markdown",
   "id": "2966525a",
   "metadata": {},
   "source": [
    "### 7. Can array-to-scalar operations use combined operation-assign operators (such as += or *=) ? What is the outcome ?\n",
    "\n",
    "#### Solution :- Yes, array-to-scalar operations can use combined operation-assign operators such as += or *=. When a combined operation-assign operator is used with an array and a scalar, NumPy performs the operation on each element of the array and then assigns the result back to the array."
   ]
  },
  {
   "cell_type": "markdown",
   "id": "9a21a506",
   "metadata": {},
   "source": [
    "### 8. Does a numpy array contain fixed-length strings ? What happens if you allocate a longer string to one of these arrays ?\n",
    "\n",
    "#### Solution :- In NumPy, arrays can be of various data types, including fixed-length strings. These are specified using the S character code, followed by the maximum length of the string.\n",
    "\n",
    "#### For example, to create a NumPy array of fixed-length strings with a maximum length of 5 characters, we can use the following code:"
   ]
  },
  {
   "cell_type": "code",
   "execution_count": 1,
   "id": "d09dddef",
   "metadata": {},
   "outputs": [],
   "source": [
    "import numpy as np\n",
    "\n",
    "# Create a NumPy array of fixed-length strings\n",
    "a = np.array(['foo', 'bar', 'baz'], dtype='S5')"
   ]
  },
  {
   "cell_type": "markdown",
   "id": "39f97373",
   "metadata": {},
   "source": [
    "#### In this example, the dtype parameter is set to 'S5', which specifies a data type of fixed-length strings with a maximum length of 5 characters. If we0 attempt to allocate a longer string to one of these arrays, NumPy will truncate the string to fit the specified maximum length. For example:-"
   ]
  },
  {
   "cell_type": "code",
   "execution_count": 2,
   "id": "771e4861",
   "metadata": {},
   "outputs": [
    {
     "name": "stdout",
     "output_type": "stream",
     "text": [
      "[b'foo' b'quxqu' b'baz']\n"
     ]
    }
   ],
   "source": [
    "import numpy as np\n",
    "\n",
    "# Create a NumPy array of fixed-length strings\n",
    "a = np.array(['foo', 'bar', 'baz'], dtype='S5')\n",
    "\n",
    "# Allocate a longer string to the array\n",
    "a[1] = 'quxquux'\n",
    "\n",
    "print(a)"
   ]
  },
  {
   "cell_type": "markdown",
   "id": "6f85e25e",
   "metadata": {},
   "source": [
    "#### In this example, the string 'quxquux' is longer than the specified maximum length of 5 characters, so NumPy truncates it to 'quxqu' to fit the array. The resulting array a contains the truncated string b'quxqu'."
   ]
  },
  {
   "cell_type": "markdown",
   "id": "c7196989",
   "metadata": {},
   "source": [
    "### 9. What happens when you combine two numpy arrays using an operation like addition (+) or multiplication (*) ? What are the conditions for combining two numpy arrays ?\n",
    "\n",
    "#### Solution :- When we combine two NumPy arrays using an operation like addition (+) or multiplication (*), NumPy performs the operation element-wise. This means that the operation is applied to each corresponding pair of elements in the arrays, and the resulting array has the same shape as the input arrays. For example, consider the following code:-"
   ]
  },
  {
   "cell_type": "code",
   "execution_count": 3,
   "id": "0f45658e",
   "metadata": {},
   "outputs": [
    {
     "name": "stdout",
     "output_type": "stream",
     "text": [
      "[5 7 9]\n"
     ]
    }
   ],
   "source": [
    "import numpy as np\n",
    "\n",
    "# Create two NumPy arrays\n",
    "a = np.array([1, 2, 3])\n",
    "b = np.array([4, 5, 6])\n",
    "\n",
    "# Add the arrays element-wise\n",
    "c = a + b\n",
    "\n",
    "print(c)"
   ]
  },
  {
   "cell_type": "markdown",
   "id": "9e891e2d",
   "metadata": {},
   "source": [
    "#### In this example, the arrays a and b are added element-wise using the + operator, and the resulting array c contains the sums of the corresponding pairs of elements. The conditions for combining two NumPy arrays are that they must have the same shape, or be broadcastable to the same shape. Broadcasting is a way of making arrays with different shapes compatible for element-wise operations by adjusting the shape of one or both arrays. We can read more about broadcasting in the NumPy documentation."
   ]
  },
  {
   "cell_type": "markdown",
   "id": "f2e2c418",
   "metadata": {},
   "source": [
    "### 10. What is the best way to use a Boolean array to mask another array ?\n",
    "\n",
    "#### Solution :- To use a Boolean array to mask another array in NumPy, we can simply index the masked array with the Boolean array. For example, consider the following code:"
   ]
  },
  {
   "cell_type": "code",
   "execution_count": 4,
   "id": "547cd1ad",
   "metadata": {},
   "outputs": [
    {
     "name": "stdout",
     "output_type": "stream",
     "text": [
      "[3 4 5]\n"
     ]
    }
   ],
   "source": [
    "import numpy as np\n",
    "\n",
    "# Create a NumPy array\n",
    "a = np.array([1, 2, 3, 4, 5])\n",
    "\n",
    "# Create a Boolean array based on a condition\n",
    "mask = a > 2\n",
    "\n",
    "# Mask the array using the Boolean array\n",
    "masked_a = a[mask]\n",
    "\n",
    "print(masked_a)"
   ]
  },
  {
   "cell_type": "markdown",
   "id": "2865d8e1",
   "metadata": {},
   "source": [
    "#### In this example, the Boolean array mask is created based on the condition a > 2, which evaluates to [False, False, True, True, True]. The masked array masked_a is then created by indexing the original array a with the Boolean array mask. This returns only the elements of a where the corresponding value in mask is True, resulting in the array [3, 4, 5]. This method of using Boolean arrays to mask other arrays is efficient and easy to understand, and it can be used for a variety of purposes in NumPy."
   ]
  },
  {
   "cell_type": "markdown",
   "id": "a5587c90",
   "metadata": {},
   "source": [
    "### 11. What are three different ways to get the standard deviation of a wide collection of data using both standard Python and its packages ? Sort the three of them by how quickly they execute.\n",
    "\n",
    "#### Solution :- Here are three different ways to get the standard deviation of a wide collection of data using both standard Python and its packages, sorted by how quickly they execute:\n",
    "\n",
    "#### 1. NumPy's numpy.std() function: This function calculates the standard deviation of a NumPy array. It is fast and efficient for large arrays. Here's an example of how to use it:"
   ]
  },
  {
   "cell_type": "code",
   "execution_count": 5,
   "id": "94793b8f",
   "metadata": {},
   "outputs": [
    {
     "name": "stdout",
     "output_type": "stream",
     "text": [
      "1.4142135623730951\n"
     ]
    }
   ],
   "source": [
    "import numpy as np\n",
    "\n",
    "data = np.array([1, 2, 3, 4, 5])\n",
    "std = np.std(data)\n",
    "\n",
    "print(std)"
   ]
  },
  {
   "cell_type": "markdown",
   "id": "2b735835",
   "metadata": {},
   "source": [
    "#### 2. The statistics module's stdev() function: This function calculates the standard deviation of a list or tuple of data. It is slower than NumPy's numpy.std() function but faster than the pure Python approach. Here's an example of how to use it:"
   ]
  },
  {
   "cell_type": "code",
   "execution_count": 6,
   "id": "090e6e02",
   "metadata": {},
   "outputs": [
    {
     "name": "stdout",
     "output_type": "stream",
     "text": [
      "1.5811388300841898\n"
     ]
    }
   ],
   "source": [
    "import statistics\n",
    "\n",
    "data = [1, 2, 3, 4, 5]\n",
    "std = statistics.stdev(data)\n",
    "\n",
    "print(std)"
   ]
  },
  {
   "cell_type": "markdown",
   "id": "1ccaaf25",
   "metadata": {},
   "source": [
    "#### 3. A pure Python implementation: This approach uses a loop to iterate over the data and calculate the standard deviation. It is the slowest of the three approaches and is not recommended for large datasets. Here's an example of how to implement it:"
   ]
  },
  {
   "cell_type": "code",
   "execution_count": 7,
   "id": "58b20004",
   "metadata": {},
   "outputs": [
    {
     "name": "stdout",
     "output_type": "stream",
     "text": [
      "1.4142135623730951\n"
     ]
    }
   ],
   "source": [
    "import math\n",
    "\n",
    "data = [1, 2, 3, 4, 5]\n",
    "\n",
    "mean = sum(data) / len(data)\n",
    "variance = sum((x - mean) ** 2 for x in data) / len(data)\n",
    "std = math.sqrt(variance)\n",
    "\n",
    "print(std)"
   ]
  },
  {
   "cell_type": "markdown",
   "id": "a6b08eb6",
   "metadata": {},
   "source": [
    "### 12. What is the dimensionality of a Boolean mask-generated array ?\n",
    "\n",
    "#### Solution :- The dimensionality of a Boolean mask-generated array is the same as the original array that was masked. This is because a Boolean mask is essentially a binary array that has the same shape as the original array, where each element of the mask is either True or False depending on a certain condition. When this mask is used to index or slice the original array, the resulting array will have the same shape as the mask, which is the same as the shape of the original array. The values in the resulting array will be either the elements of the original array that satisfy the condition (where the mask is True) or some default value (usually 0 or False) where the mask is False. Therefore, the dimensionality of the resulting Boolean mask-generated array will be the same as that of the original array."
   ]
  },
  {
   "cell_type": "code",
   "execution_count": null,
   "id": "004d4978",
   "metadata": {},
   "outputs": [],
   "source": []
  }
 ],
 "metadata": {
  "kernelspec": {
   "display_name": "Python 3 (ipykernel)",
   "language": "python",
   "name": "python3"
  },
  "language_info": {
   "codemirror_mode": {
    "name": "ipython",
    "version": 3
   },
   "file_extension": ".py",
   "mimetype": "text/x-python",
   "name": "python",
   "nbconvert_exporter": "python",
   "pygments_lexer": "ipython3",
   "version": "3.9.13"
  }
 },
 "nbformat": 4,
 "nbformat_minor": 5
}
