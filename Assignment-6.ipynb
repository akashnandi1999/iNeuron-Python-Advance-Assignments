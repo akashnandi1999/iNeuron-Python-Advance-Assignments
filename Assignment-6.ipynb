{
 "cells": [
  {
   "cell_type": "markdown",
   "id": "1e41eec1",
   "metadata": {},
   "source": [
    "# Assignment-6\n",
    "\n",
    "## - by Akash Nandi"
   ]
  },
  {
   "cell_type": "markdown",
   "id": "aad115c8",
   "metadata": {},
   "source": [
    "### 1. Describe three applications for exception processing.\n",
    "\n",
    "#### Solution :- Here are three common applications of exception processing :-\n",
    "\n",
    "#### a) Error handling: When a program encounters an error or an unexpected situation, it can raise an exception to indicate that something has gone wrong. By catching and handling exceptions, we can provide more informative error messages to users, log errors for debugging purposes, and gracefully recover from errors where possible. For example, we might catch a FileNotFoundError exception when trying to open a file, and handle it by displaying a message to the user or falling back to a default file.\n",
    "\n",
    "#### b) Resource management: In some cases, we need to allocate and release resources, such as file handles, network sockets, or database connections, in our code. If we don't properly manage these resources, we can run into issues such as resource leaks, deadlocks, or race conditions. Exception processing can help us manage resources by ensuring that resources are properly released even if an error occurs. For example, we might use a try/finally block to ensure that a file is always closed, regardless of whether an error occurred while reading or writing to the file.\n",
    "\n",
    "#### c) Control flow: Exceptions can also be used to control the flow of a program. For example, we might use an exception to break out of a loop early if a certain condition is met, or to signal that a function has completed successfully or encountered an error. Exceptions can also be used to implement custom control flow constructs, such as iterators or coroutines, that allow us to define complex interactions between different parts of a program."
   ]
  },
  {
   "cell_type": "markdown",
   "id": "2941cfa3",
   "metadata": {},
   "source": [
    "### 2. What happens if you don't do something extra to treat an exception ?\n",
    "\n",
    "#### Solution :- If we don't handle an exception in your code, the program will terminate abruptly and print an error message to the console. This can happen if the exception is not caught by a try/except block, or if it is raised outside of the main program execution context."
   ]
  },
  {
   "cell_type": "markdown",
   "id": "27123609",
   "metadata": {},
   "source": [
    "### 3. What are your options for recovering from an exception in your script ?\n",
    "\n",
    "#### Solution :- Here are some of the most common approaches :-\n",
    "\n",
    "#### a) Catch the exception with a try/except block: This is the most common way to handle exceptions in Python. You can wrap the code that might raise an exception in a try block, and catch the exception with an except block. In the except block, you can handle the exception by logging an error message, displaying a user-friendly error message, or taking other corrective actions.\n",
    "\n",
    "#### b) Retry the operation: If the exception is caused by a transient error, such as a network connection failure, you might be able to recover by retrying the operation after a short delay. You can use a loop with a try/except block to retry the operation a certain number of times, until it succeeds or the maximum number of retries is reached.\n",
    "\n",
    "#### c) Substitute a default value: If the operation that raised the exception is non-critical or can't be completed for some reason, you can substitute a default value instead of raising an exception. For example, if you are reading a configuration file and encounter a syntax error, you might substitute a default value instead of raising an exception and terminating the program.\n",
    "\n",
    "#### d) Graceful shutdown: If the exception indicates a fatal error, such as a disk failure or a memory corruption, it might be best to terminate the program gracefully. You can use a finally block to perform any necessary cleanup actions, such as closing open files or releasing resources, before exiting the program."
   ]
  },
  {
   "cell_type": "markdown",
   "id": "7f9e0ca8",
   "metadata": {},
   "source": [
    "### 4. Describe two methods for triggering exceptions in your script.\n",
    "\n",
    "#### Solution :- There are many ways to trigger exceptions in your script. Here are two common methods :-\n",
    "\n",
    "#### a) Using the raise statement: You can trigger an exception explicitly in your code using the raise statement. This statement allows you to raise a specified exception class, with an optional error message.\n",
    "\n",
    "#### b) Invoking a function or method that raises an exception: Another way to trigger an exception is by invoking a function or method that raises an exception."
   ]
  },
  {
   "cell_type": "markdown",
   "id": "abac9512",
   "metadata": {},
   "source": [
    "### 5. Identify two methods for specifying actions to be executed at termination time, regardless of whether or not an exception exists.\n",
    "\n",
    "#### Solution :- Here are two common methods :-\n",
    "\n",
    "#### a) Using the finally clause: You can use the finally clause in a try/except block to specify actions that should be executed regardless of whether or not an exception occurs. The finally block is always executed, regardless of whether the try block completes successfully or an exception is raised.\n",
    "\n",
    "#### b) Using the atexit module: The atexit module is used to register functions that will be called when the Python interpreter terminates. This can be used to perform cleanup operations or save data before the program exits."
   ]
  },
  {
   "cell_type": "code",
   "execution_count": null,
   "id": "83c30286",
   "metadata": {},
   "outputs": [],
   "source": []
  }
 ],
 "metadata": {
  "kernelspec": {
   "display_name": "Python 3 (ipykernel)",
   "language": "python",
   "name": "python3"
  },
  "language_info": {
   "codemirror_mode": {
    "name": "ipython",
    "version": 3
   },
   "file_extension": ".py",
   "mimetype": "text/x-python",
   "name": "python",
   "nbconvert_exporter": "python",
   "pygments_lexer": "ipython3",
   "version": "3.9.7"
  }
 },
 "nbformat": 4,
 "nbformat_minor": 5
}
