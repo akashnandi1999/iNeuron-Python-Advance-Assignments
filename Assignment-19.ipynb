{
 "cells": [
  {
   "cell_type": "markdown",
   "id": "48cff3e3",
   "metadata": {},
   "source": [
    "# Assignment-19\n",
    "\n",
    "## - by Akash Nandi"
   ]
  },
  {
   "cell_type": "markdown",
   "id": "302b5bba",
   "metadata": {},
   "source": [
    "### 1. Define the relationship between a class and its instances. Is it a one-to-one or a one-to-many partnership, for example?\n",
    "\n",
    "#### Solution :- In object-oriented programming, a class is a blueprint for creating objects, and an instance is a single, unique unit of a class. The relationship between a class and its instances is one-to-many because a class can have multiple instances or objects created from it. Each instance has its own unique attributes and methods but shares the same class structure as other instances. Therefore, a single class can be used to create multiple instances with different values for their attributes. The class defines the characteristics of the object, and the instance is the actual object that can interact with other objects in the program."
   ]
  },
  {
   "cell_type": "markdown",
   "id": "30bc9c9a",
   "metadata": {},
   "source": [
    "### 2. What kind of data is held only in an instance ?\n",
    "\n",
    "#### Solution :- In object-oriented programming, instance variables are unique to each instance of a class, so they hold data that is specific to that instance. This data is not shared between instances, and can be modified without affecting other instances of the same class. For example, if we have a class representing a person, each instance of the class could have its own instance variables for the person's name, age, and address, which would be specific to that person."
   ]
  },
  {
   "cell_type": "markdown",
   "id": "96430289",
   "metadata": {},
   "source": [
    "### 3. What kind of knowledge is stored in a class ?\n",
    "\n",
    "#### Solution :- In object-oriented programming, a class defines a blueprint or template for creating objects, which are instances of the class. A class can contain data members (attributes) and member functions (methods) that define the behavior of the objects created from the class. The data members (attributes) store the state of the object, which can be accessed and modified by the methods of the class. These attributes can be of different data types such as integers, strings, floats, lists, etc.The methods of the class define the behavior of the objects created from the class. They can perform operations on the data members of the class and can also interact with other objects in the program. So, a class stores knowledge about how to create objects, what attributes they will have, and what behaviors they will exhibit."
   ]
  },
  {
   "cell_type": "markdown",
   "id": "d51462c4",
   "metadata": {},
   "source": [
    "### 4. What exactly is a method, and how is it different from a regular function ?\n",
    "\n",
    "#### Solution :- In Python, a method is a function that is defined within a class and can be called on instances of that class. The main difference between a method and a regular function is that a method is associated with an instance of a class and has access to its internal data. A method takes an implicit first argument, which is the instance that it is called on, and this argument is typically referred to as \"self\"."
   ]
  },
  {
   "cell_type": "markdown",
   "id": "2aca3f53",
   "metadata": {},
   "source": [
    "### 5. Is inheritance supported in Python, and if so, what is the syntax ?\n",
    "\n",
    "#### Solution :- Yes, inheritance is supported in Python. The syntax for inheritance in Python is as follows:"
   ]
  },
  {
   "cell_type": "code",
   "execution_count": 1,
   "id": "2aa85781",
   "metadata": {},
   "outputs": [],
   "source": [
    "class ChildClass(ParentClass):\n",
    "    # child class definition"
   ]
  },
  {
   "cell_type": "markdown",
   "id": "2cd84f53",
   "metadata": {},
   "source": [
    "#### In this syntax, ChildClass is the subclass or derived class that inherits from the ParentClass or base class. The child class can access the attributes and methods of the parent class, and it can also override or add new attributes and methods.\n",
    "\n",
    "#### To call the constructor of the parent class from the child class, we can use the super() function. For example:"
   ]
  },
  {
   "cell_type": "code",
   "execution_count": 2,
   "id": "04f6bf44",
   "metadata": {},
   "outputs": [],
   "source": [
    "class ChildClass(ParentClass):\n",
    "    def __init__(self, arg1, arg2):\n",
    "        super().__init__(arg1) # call parent class constructor\n",
    "        self.arg2 = arg2 # add new attribute"
   ]
  },
  {
   "cell_type": "markdown",
   "id": "d174609d",
   "metadata": {},
   "source": [
    "#### This calls the constructor of the parent class with arg1 as the argument, and then initializes the new attribute arg2 in the child class."
   ]
  },
  {
   "cell_type": "markdown",
   "id": "7cda88e3",
   "metadata": {},
   "source": [
    "### 6. How much encapsulation (making instance or class variables private) does Python support ?\n",
    "\n",
    "#### Solution :- Python supports a limited form of encapsulation through the use of naming conventions. By convention, instance and class variables that should be treated as private are prefixed with a double underscore (__) at the beginning of their names. This causes their names to be \"mangled\" by Python, which means that the names are modified to include the name of the class as a prefix, which helps to avoid name collisions.\n",
    "\n",
    "#### For example, if a class has a private instance variable named __value, its actual name will be modified to _classname__value, where classname is the name of the class. This means that the variable can still be accessed from outside the class, but it is less likely to be accidentally modified or accessed by other code.\n",
    "\n",
    "#### However, it is important to note that this is only a convention and not enforced by the language itself. It is still possible to access and modify private variables by using their mangled names directly. Therefore, it is ultimately up to the programmer to ensure that private variables are not accessed or modified inappropriately."
   ]
  },
  {
   "cell_type": "markdown",
   "id": "9be30cc5",
   "metadata": {},
   "source": [
    "### 7. How do you distinguish between a class variable and an instance variable ?\n",
    "\n",
    "#### Solution :- In Python, a class variable is a variable that is defined inside a class and outside any method, and it is shared by all instances of that class. It can be accessed using the class name, and its value can be modified for all instances of the class. On the other hand, an instance variable is a variable that is defined inside a method of the class or the __init__ method and belongs to a specific instance of the class. It can be accessed and modified only by that particular instance. In short, a class variable is shared by all instances of the class, whereas an instance variable is specific to a particular instance of the class."
   ]
  },
  {
   "cell_type": "markdown",
   "id": "66d7851a",
   "metadata": {},
   "source": [
    "### 8. When, if ever, can self be included in a class's method definitions ?\n",
    "\n",
    "#### Solution :- In Python, self is used to refer to the instance of a class within a class's method definitions. It is typically included as the first parameter in the method definition. This parameter is used to refer to the instance of the class that the method is being called on. Therefore, self should always be included in a class's method definitions, unless we're defining a class method or a static method. In those cases, we would use the @classmethod or @staticmethod decorator, respectively, and not include self as a parameter. Note that self is simply a naming convention in Python, and could be replaced with any other valid variable name, although it is not recommended to do so for the sake of code clarity and consistency."
   ]
  },
  {
   "cell_type": "markdown",
   "id": "a32d3f73",
   "metadata": {},
   "source": [
    "### 9. What is the difference between the _ _add_ _ and the _ _radd_ _ methods ?\n",
    "\n",
    "#### Solution :- The __add__ and __radd__ methods are used for addition in Python, but they work in different ways. __add__ is a method that is called when the + operator is used with an instance of the class. It takes two arguments: self and other. self refers to the instance of the class, while other refers to the object on the right side of the + operator. __radd__, on the other hand, is a method that is called when the object on the left side of the + operator does not support addition with the object on the right side. In this case, the __radd__ method of the object on the right side is called, and it takes two arguments: self and other."
   ]
  },
  {
   "cell_type": "markdown",
   "id": "48e09375",
   "metadata": {},
   "source": [
    "### 10. When is it necessary to use a reflection method? When do you not need it, even though you support the operation in question ?\n",
    "\n",
    "#### Solution :- A reflection method is needed when an object needs to provide information about its own attributes, methods, and functionality at runtime. For example, the __str__ method is a reflection method that provides a string representation of an object. Similarly, the __getattr__ method can be used to dynamically access an object's attributes that may not exist at compile time. Reflection methods are not always needed, as some operations can be performed without requiring the object to provide information about itself at runtime. For example, if an object has a public attribute, it can be accessed directly without the need for a reflection method. Additionally, if an object is used in a simple manner, such as passing it as an argument to a function or comparing it to another object, reflection methods may not be necessary."
   ]
  },
  {
   "cell_type": "markdown",
   "id": "02251771",
   "metadata": {},
   "source": [
    "### 11. What is the _ _iadd_ _ method called ?\n",
    "\n",
    "#### Solution :- The __iadd__ method is called the \"in-place addition\" method."
   ]
  },
  {
   "cell_type": "markdown",
   "id": "13e6dcff",
   "metadata": {},
   "source": [
    "### 12. Is the _ _init_ _ method inherited by subclasses? What do you do if you need to customize its behavior within a subclass ?\n",
    "\n",
    "#### Solution :- Yes, the _ _init_ _ method is inherited by subclasses. If we need to customize its behavior within a subclass, we can override the method in the subclass definition. To do this, define a new _ _init_ _ method in the subclass and provide the desired behavior. If we still need to call the superclass's _ _init_ _ method, we can use the super() function to call the parent class's _ _init_ _ method and then customize the behavior in the subclass's method."
   ]
  },
  {
   "cell_type": "code",
   "execution_count": null,
   "id": "9531ab74",
   "metadata": {},
   "outputs": [],
   "source": []
  }
 ],
 "metadata": {
  "kernelspec": {
   "display_name": "Python 3 (ipykernel)",
   "language": "python",
   "name": "python3"
  },
  "language_info": {
   "codemirror_mode": {
    "name": "ipython",
    "version": 3
   },
   "file_extension": ".py",
   "mimetype": "text/x-python",
   "name": "python",
   "nbconvert_exporter": "python",
   "pygments_lexer": "ipython3",
   "version": "3.9.13"
  }
 },
 "nbformat": 4,
 "nbformat_minor": 5
}
