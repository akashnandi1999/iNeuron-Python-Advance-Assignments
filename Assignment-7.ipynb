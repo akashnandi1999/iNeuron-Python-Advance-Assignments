{
 "cells": [
  {
   "cell_type": "markdown",
   "id": "ac13a9cc",
   "metadata": {},
   "source": [
    "# Assignment-7\n",
    "\n",
    "## - by Akash Nandi"
   ]
  },
  {
   "cell_type": "markdown",
   "id": "ab2641d8",
   "metadata": {},
   "source": [
    "### 1. What is the purpose of the try statement ?\n",
    "\n",
    "#### Solution :- The try statement is used in Python for exception handling. It allows us to specify a block of code that might raise an exception, and to define how to handle that exception if it occurs."
   ]
  },
  {
   "cell_type": "markdown",
   "id": "e80af311",
   "metadata": {},
   "source": [
    "### 2. What are the two most popular try statement variations ?\n",
    "\n",
    "#### Solution :- The try statement is typically used to handle exceptions and errors that may occur during the execution of a program. There are two popular variations of the try statement:\n",
    "\n",
    "#### a) try-except block: This variation includes a block of code that may raise an exception, followed by one or more except blocks that specify how to handle the exception. If an exception is raised in the try block, the code in the corresponding except block is executed.\n",
    "\n",
    "#### b) try-finally block: This variation includes a block of code that may raise an exception, followed by a finally block that is guaranteed to be executed regardless of whether an exception was raised. This block is often used for cleanup tasks, such as closing open files or releasing resources. "
   ]
  },
  {
   "cell_type": "markdown",
   "id": "eb8c13b2",
   "metadata": {},
   "source": [
    "### 3. What is the purpose of the raise statement ?\n",
    "\n",
    "#### Solution :- the raise statement is used to explicitly raise an exception during the execution of a program. It is often used in conjunction with a try-except block to handle errors in a more structured way.\n",
    "#### The raise statement takes an exception object as its argument. This object can be a built-in exception class, such as ValueError or TypeError, or a custom exception class that you have defined. Once the raise statement is executed, it causes an exception to be raised with the specified object as its argument."
   ]
  },
  {
   "cell_type": "markdown",
   "id": "b19bf08f",
   "metadata": {},
   "source": [
    "### 4. What does the assert statement do, and what other statement is it like ?\n",
    "\n",
    "#### Solution :- the assert statement is used to check that a certain condition is true. If the condition is false, the assert statement raises an AssertionError exception with an optional error message.\n",
    "#### The assert statement is similar to the if statement in that they both perform conditional checks. However, the assert statement is used specifically for debugging purposes and is often used to check assumptions about the code that should always be true. If an assumption is violated, the assert statement raises an exception, which can help pinpoint the source of the problem."
   ]
  },
  {
   "cell_type": "markdown",
   "id": "8760d78e",
   "metadata": {},
   "source": [
    "### 5. What is the purpose of the with/as argument, and what other statement is it like ?\n",
    "\n",
    "#### Solution :- The with statement is used to manage resources that need to be explicitly opened and closed, such as files, sockets, and database connections. The with statement ensures that the resource is properly closed, even if an exception is raised during the execution of the block.\n",
    "\n",
    "#### The with statement uses the as keyword to assign the resource to a variable, which can then be used within the block. Once the block is exited, the resource is automatically closed, regardless of whether an exception was raised or not."
   ]
  },
  {
   "cell_type": "code",
   "execution_count": null,
   "id": "cb4d97e1",
   "metadata": {},
   "outputs": [],
   "source": []
  }
 ],
 "metadata": {
  "kernelspec": {
   "display_name": "Python 3 (ipykernel)",
   "language": "python",
   "name": "python3"
  },
  "language_info": {
   "codemirror_mode": {
    "name": "ipython",
    "version": 3
   },
   "file_extension": ".py",
   "mimetype": "text/x-python",
   "name": "python",
   "nbconvert_exporter": "python",
   "pygments_lexer": "ipython3",
   "version": "3.9.7"
  }
 },
 "nbformat": 4,
 "nbformat_minor": 5
}
