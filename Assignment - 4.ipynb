{
 "cells": [
  {
   "cell_type": "markdown",
   "id": "a4b8b798",
   "metadata": {},
   "source": [
    "# Assignment - 4\n",
    "\n",
    "## - by Akash Nandi"
   ]
  },
  {
   "cell_type": "markdown",
   "id": "615ca4d8",
   "metadata": {},
   "source": [
    "### 1. Which two operator overloading methods can you use in your classes to support iteration ?\n",
    "\n",
    "#### Solution :- The '__iter__' returns the iterator object and is implicitly called at the start of loops. The '__next__' method returns the next value and is implicitly called at each loop increment."
   ]
  },
  {
   "cell_type": "markdown",
   "id": "3168cb90",
   "metadata": {},
   "source": [
    "### 2. In what contexts do the two operator overloading methods manage printing ?\n",
    "\n",
    "#### Solution :- The methods that can be used to control the printing of objects: '__str__()' and ' __repr__()'. These methods are used to define how an object should be represented as a string, and they can be overloaded to customize the printing behavior of your class."
   ]
  },
  {
   "cell_type": "markdown",
   "id": "75fe3a85",
   "metadata": {},
   "source": [
    "### 3. In a class, how do you intercept slice operations ?\n",
    "\n",
    "#### Solution :- We can use the __getitem__() method to intercept slice operations (i.e., indexing with the square bracket notation that includes a colon to indicate a range of indices). When you use slice notation on an object, Python calls the __getitem__() method with a slice object as the argument."
   ]
  },
  {
   "cell_type": "markdown",
   "id": "eba27456",
   "metadata": {},
   "source": [
    "### 4. In a class, how do you capture in-place addition ?\n",
    "\n",
    "#### Solution :- We can capture in-place addition (i.e., the += operator) using the __iadd__() method. This method is called when the += operator is used on an object."
   ]
  },
  {
   "cell_type": "markdown",
   "id": "838188d4",
   "metadata": {},
   "source": [
    "### 5. When is it appropriate to use operator overloading ?\n",
    "\n",
    "#### Solution :- Here are some situations where it can be appropriate to use operator overloading :-\n",
    "\n",
    "#### a) When we want to provide a more natural syntax for performing operations on instances of our class. For example, we might want to define __add__() to allow two instances of our class to be added together using the + operator.\n",
    "\n",
    "#### b) When we want to define custom behavior for comparison operators such as ==, <, >, etc. For example, we might want to define __eq__() to compare two instances of our class based on their attributes.\n",
    "\n",
    "#### c) When we want to provide compatibility with built-in Python functions or libraries that expect certain operators to be defined. For example, we might want to define __len__() to provide the length of our custom collection class, so that it can be used with the built-in len() function.\n",
    "\n",
    "#### d) When we want to make our code more readable and intuitive. By defining custom behavior for operators, we can make our code more expressive and easier to understand."
   ]
  },
  {
   "cell_type": "code",
   "execution_count": null,
   "id": "ac327872",
   "metadata": {},
   "outputs": [],
   "source": []
  }
 ],
 "metadata": {
  "kernelspec": {
   "display_name": "Python 3 (ipykernel)",
   "language": "python",
   "name": "python3"
  },
  "language_info": {
   "codemirror_mode": {
    "name": "ipython",
    "version": 3
   },
   "file_extension": ".py",
   "mimetype": "text/x-python",
   "name": "python",
   "nbconvert_exporter": "python",
   "pygments_lexer": "ipython3",
   "version": "3.9.7"
  }
 },
 "nbformat": 4,
 "nbformat_minor": 5
}
