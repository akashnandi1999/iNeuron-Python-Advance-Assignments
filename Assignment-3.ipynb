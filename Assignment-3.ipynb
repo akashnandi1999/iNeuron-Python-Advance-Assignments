{
 "cells": [
  {
   "cell_type": "markdown",
   "id": "746bfd48",
   "metadata": {},
   "source": [
    "# Assignment-3\n",
    "\n",
    "## - by Akash Nandi"
   ]
  },
  {
   "cell_type": "markdown",
   "id": "6861d4c9",
   "metadata": {},
   "source": [
    "### 1. What is the concept of an abstract superclass ?\n",
    "#### Solution :- An abstract superclass is a class that cannot be instantiated on its own, but is instead intended to be subclassed by other classes. It defines a set of methods that subclasses must implement, but does not provide implementations for those methods itself. The purpose of an abstract superclass is to provide a common interface and behavior for a group of related classes. By defining a set of required methods in the abstract superclass, it ensures that any subclass that inherits from it will have those same methods available. This can help to reduce duplicated code and improve code organization."
   ]
  },
  {
   "cell_type": "markdown",
   "id": "502d9198",
   "metadata": {},
   "source": [
    "### 2. What happens when a class statement's top level contains a basic assignment statement ?\n",
    "\n",
    "#### Solution :- When a class statement's top level contains a basic assignment statement, that assignment statement becomes a class-level variable or class attribute. This means that the variable or attribute is associated with the class itself, rather than with instances of the class. All instances of the class share the same class-level variable, which can be accessed and modified through the class or any of its instances."
   ]
  },
  {
   "cell_type": "markdown",
   "id": "8c38d538",
   "metadata": {},
   "source": [
    "### 3. Why does a class need to manually call a superclass's __init__ method ?\n",
    "\n",
    "#### Solution :- When a subclass is defined, it does not automatically inherit the constructor (init method) of its superclass. Therefore, if the superclass has any initialization logic that needs to be performed when an instance of the subclass is created, the subclass needs to manually call the superclass's init method. The reason for this is that when a subclass is defined, it may have its own attributes or behavior that are not present in the superclass. Therefore, the subclass needs to explicitly decide how to initialize its own attributes, as well as any attributes inherited from the superclass."
   ]
  },
  {
   "cell_type": "markdown",
   "id": "d46460f3",
   "metadata": {},
   "source": [
    "### 4. How can you augment, instead of completely replacing, an inherited method ?\n",
    "\n",
    "#### Solution :- We can augment, or extend, an inherited method instead of completely replacing it by calling the superclass's method within the subclass's method using the super() function. This allows us to add functionality to the inherited method without losing the original behavior. By using super() to call the superclass's method, we can easily extend the behavior of inherited methods without having to completely replace them. This can help to avoid code duplication and improve code organization."
   ]
  },
  {
   "cell_type": "markdown",
   "id": "da334dea",
   "metadata": {},
   "source": [
    "### 5. How is the local scope of a class different from that of a function ?\n",
    "\n",
    "#### Solution :- "
   ]
  }
 ],
 "metadata": {
  "kernelspec": {
   "display_name": "Python 3 (ipykernel)",
   "language": "python",
   "name": "python3"
  },
  "language_info": {
   "codemirror_mode": {
    "name": "ipython",
    "version": 3
   },
   "file_extension": ".py",
   "mimetype": "text/x-python",
   "name": "python",
   "nbconvert_exporter": "python",
   "pygments_lexer": "ipython3",
   "version": "3.9.7"
  }
 },
 "nbformat": 4,
 "nbformat_minor": 5
}
