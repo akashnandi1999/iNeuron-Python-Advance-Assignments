{
 "cells": [
  {
   "cell_type": "markdown",
   "id": "a82fa8ca",
   "metadata": {},
   "source": [
    "# Assignment-2\n",
    "\n",
    "## - by Akash Nandi"
   ]
  },
  {
   "cell_type": "markdown",
   "id": "c4ed9afb",
   "metadata": {},
   "source": [
    "### 1. What is the relationship between classes and modules ?\n",
    "#### Solution :- Modules are collections of methods and constants. They cannot generate instances. Classes may generate instances (objects), and have per-instance state (instance variables)."
   ]
  },
  {
   "cell_type": "markdown",
   "id": "1a917549",
   "metadata": {},
   "source": [
    "### 2. How do you make instances and classes ?\n",
    "#### Solution :- To create a class we just use the keyword 'class' followed by class name and to create instances of a class, we call the class using class name in a variable and pass in whatever arguments its __init__ method accepts."
   ]
  },
  {
   "cell_type": "markdown",
   "id": "086e7ded",
   "metadata": {},
   "source": [
    "### 3. Where and how should be class attributes created ?\n",
    "#### Solution :- Class attributes should be created inside the class definition, outside of any methods, and typically before any instance methods are defined. Class attributes are useful for storing data that is common to all instances of a class. They can also be used to define constants or default values. However, it's important to note that modifying a class attribute will affect all instances of the class, so we need to use them carefully."
   ]
  },
  {
   "cell_type": "markdown",
   "id": "4c325fee",
   "metadata": {},
   "source": [
    "### 4. Where and how are instance attributes created ?\n",
    "#### Solution :- Instance attributes are created inside the class's constructor method, which is called '__init__'. Instance attributes are unique to each instance of a class. They are accessed using the instance name. Instance attributes are useful for storing data that is specific to each instance of a class. They can be used to define the state of an object and its behavior."
   ]
  },
  {
   "cell_type": "markdown",
   "id": "f179f7fb",
   "metadata": {},
   "source": [
    "### 5. What does the term 'self' in a Python class mean ?\n",
    "#### Solution :- In Python, 'self' is a reference to the instance of the class itself. It is the first parameter of all instance methods in a class. When an object of a class is created, Python automatically passes the instance as the first argument to all instance methods. When calling an instance method, we don't need to pass the 'self' argument explicitly - Python will pass it automatically."
   ]
  },
  {
   "cell_type": "markdown",
   "id": "a008e0a9",
   "metadata": {},
   "source": [
    "### 6. How does a Python class handle operator overloading ?\n",
    "#### Solution :-  Python classes allow operator overloading, which means we can define how operators like +, -, *, /, <, >, and others work with instances of our class. To overload an operator, we define a method with a special name that corresponds to the operator we want to overload."
   ]
  },
  {
   "cell_type": "markdown",
   "id": "c38cecaa",
   "metadata": {},
   "source": [
    "### 7. When do you consider allowing operator overloading of your classes ?\n",
    "#### Solution :- Operator overloading is a powerful feature of Python classes that allows you to define how operators work with instances of your class.\n",
    "#### We should consider allowing operator overloading of your classes when it makes sense in the context of our program. Here are some examples of situations where operator overloading can be useful:\n",
    "\n",
    "#### 1. Mathematically oriented classes: If we are creating a class that represents a mathematical concept, such as a vector, matrix, or complex number, we may want to overload mathematical operators like +, -, and * to make it easier to perform operations with instances of our class.\n",
    "\n",
    "#### 2. Container classes: If we are creating a class that represents a collection of objects, such as a list, set, or dictionary, we may want to overload operators like 'in' or '[]' to make it easier to access or search for items in the collection.\n",
    "\n",
    "#### 3. Comparison-oriented classes: If we are creating a class that represents a value that can be compared to other values, such as a date or time, we may want to overload comparison operators like <, >, and == to make it easier to compare instances of our class.\n",
    "\n",
    "#### It's important to know that overloading operators can make our code more concise and expressive, but it can also make it harder to read and understand. Therefore, we should only overload operators when it makes sense in the context of our program, and we should document the behavior of the overloaded operators clearly."
   ]
  },
  {
   "cell_type": "markdown",
   "id": "9c2304c8",
   "metadata": {},
   "source": [
    "### 8. What is the most popular form of operator overloading ?\n",
    "#### Solution :- In Python, the most popular form of operator overloading is probably the arithmetic operators +, -, *, and /. This is because Python provides built-in support for arithmetic operations on built-in types like integers, floats, and complex numbers, and it's often useful to define how these operations work on user-defined types as well."
   ]
  },
  {
   "cell_type": "markdown",
   "id": "b3a279d6",
   "metadata": {},
   "source": [
    "### 9. What are the two most important concepts to grasp in order to comprehend Python OOP code ?\n",
    "#### Solution :- The two most important concepts to grasp in order to comprehend Python OOP code are:\n",
    "\n",
    "#### 1. Classes: A class is a blueprint for creating objects. It defines the properties and methods that objects of the class will have. Understanding classes is crucial to understanding how objects are created and manipulated in Python.\n",
    "\n",
    "#### 2. Objects: An object is an instance of a class. It has its own set of properties and can perform its own set of methods. Understanding objects is crucial to understanding how data is structured and processed in Python."
   ]
  },
  {
   "cell_type": "code",
   "execution_count": null,
   "id": "9bb71cfe",
   "metadata": {},
   "outputs": [],
   "source": []
  }
 ],
 "metadata": {
  "kernelspec": {
   "display_name": "Python 3 (ipykernel)",
   "language": "python",
   "name": "python3"
  },
  "language_info": {
   "codemirror_mode": {
    "name": "ipython",
    "version": 3
   },
   "file_extension": ".py",
   "mimetype": "text/x-python",
   "name": "python",
   "nbconvert_exporter": "python",
   "pygments_lexer": "ipython3",
   "version": "3.9.7"
  }
 },
 "nbformat": 4,
 "nbformat_minor": 5
}
