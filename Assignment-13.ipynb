{
 "cells": [
  {
   "cell_type": "markdown",
   "id": "894e1b2c",
   "metadata": {},
   "source": [
    "# Assignment-13\n",
    "\n",
    "## - by Akash Nandi"
   ]
  },
  {
   "cell_type": "markdown",
   "id": "c4fc8e06",
   "metadata": {},
   "source": [
    "### 1. Can you create a programme or function that employs both positive and negative indexing? Is there any repercussion if you do so ?\n",
    "\n",
    "#### Solution :- "
   ]
  },
  {
   "cell_type": "code",
   "execution_count": 2,
   "id": "134b89e9",
   "metadata": {},
   "outputs": [
    {
     "name": "stdout",
     "output_type": "stream",
     "text": [
      "lo worl\n"
     ]
    }
   ],
   "source": [
    "def get_substring(s, start, end):\n",
    "    return s[start:end]\n",
    "\n",
    "s = \"hello world\"\n",
    "start = -8\n",
    "end = len(s) - 1\n",
    "\n",
    "print(get_substring(s, start, end))"
   ]
  },
  {
   "cell_type": "markdown",
   "id": "15c9b20c",
   "metadata": {},
   "source": [
    "#### There is no particular repercussion of using both positive and negative indexing in the same program or function, as long as it makes sense for the problem you're trying to solve. In fact, using both types of indexing can often make code more flexible and easier to read, as we can choose the indexing style that best fits our needs in each situation."
   ]
  },
  {
   "cell_type": "markdown",
   "id": "566f91aa",
   "metadata": {},
   "source": [
    "### 2. What is the most effective way of starting with 1,000 elements in a Python list ? Assume that all elements should be set to the same value.\n",
    "\n",
    "#### Solution :- The most effective way to start with 1,000 elements in a Python list, all set to the same value, is to use the multiplication operator to create a list of the desired length, and then use a list comprehension to set all elements to the same value."
   ]
  },
  {
   "cell_type": "code",
   "execution_count": 4,
   "id": "3cfd8648",
   "metadata": {},
   "outputs": [],
   "source": [
    "my_list = [0] * 1000\n",
    "\n",
    "my_list = [1 for i in range(1000)]\n",
    "\n",
    "my_list = list(1 for i in range(1000))"
   ]
  },
  {
   "cell_type": "markdown",
   "id": "31ef7f97",
   "metadata": {},
   "source": [
    "#### In this code, we first create a list of 1000 zeros using the multiplication operator ([0] * 1000). This creates a list of 1000 elements, all set to zero.\n",
    "\n",
    "#### We then use a list comprehension to set all elements to the same value (e.g. 1). The list comprehension creates a new list of length 1000, where each element is set to the value 1.\n",
    "\n",
    "#### Alternatively, we can use the list() function with a generator expression to achieve the same result. The generator expression (1 for i in range(1000)) generates a sequence of 1000 ones, and the list() function converts this sequence to a list.\n",
    "\n",
    "#### Both approaches are efficient and should be fast enough for most use cases. However, using the multiplication operator is generally faster than using a list comprehension or a generator expression."
   ]
  },
  {
   "cell_type": "markdown",
   "id": "c313b620",
   "metadata": {},
   "source": [
    "### 3. How do you slice a list to get any other part while missing the rest ? (For example, suppose you want to make a new list with the elements first, third, fifth, seventh, and so on.)\n",
    "\n",
    "#### Solution :- To slice a list to get every other element (e.g. first, third, fifth, seventh, etc.), you can use Python's extended slicing syntax with a step size of 2."
   ]
  },
  {
   "cell_type": "code",
   "execution_count": 5,
   "id": "fb553682",
   "metadata": {},
   "outputs": [
    {
     "name": "stdout",
     "output_type": "stream",
     "text": [
      "[1, 3, 5, 7, 9]\n"
     ]
    }
   ],
   "source": [
    "my_list = [1, 2, 3, 4, 5, 6, 7, 8, 9, 10]\n",
    "\n",
    "new_list = my_list[::2]\n",
    "\n",
    "print(new_list)"
   ]
  },
  {
   "cell_type": "markdown",
   "id": "4723c2e1",
   "metadata": {},
   "source": [
    "#### In this code, we start with a list my_list that contains 10 elements. To get every other element from this list, we use the extended slicing syntax [::2]. The first colon (:) indicates that we want to slice the entire list from start to end. The second colon (:) indicates that we want to use a step size of 2. This means that we'll take every other element from the list. The resulting new_list contains the elements first, third, fifth, seventh, and so on. In this case, new_list contains the values [1, 3, 5, 7, 9]. You can adjust the step size to get every third element (step size of 3), every fourth element (step size of 4), and so on. Just change the number after the second colon to the desired step size."
   ]
  },
  {
   "cell_type": "markdown",
   "id": "70859098",
   "metadata": {},
   "source": [
    "### 4. Explain the distinctions between indexing and slicing.\n",
    "\n",
    "#### Solution :- Indexing and slicing are two ways of accessing elements from a sequence in Python, such as a list or a string. Indexing refers to accessing a single element from a sequence using its position, or index, within the sequence. In Python, indexing starts at 0, so the first element of a sequence has an index of 0, the second element has an index of 1, and so on. You can use square brackets ([]) with the index of the element you want to access.\n",
    "#### Slicing, on the other hand, refers to accessing a subset, or slice, of a sequence. Slicing is done by specifying a range of indices using a colon (:) inside the square brackets. The range is specified as start:end, where start is the index of the first element to include in the slice, and end is the index of the first element to exclude from the slice.\n",
    "#### One key difference between indexing and slicing is that indexing returns a single element, while slicing returns a new sequence that may contain multiple elements. Another difference is that indexing uses a single index, while slicing uses a range of indices."
   ]
  },
  {
   "cell_type": "markdown",
   "id": "3c96ab33",
   "metadata": {},
   "source": [
    "### 5. What happens if one of the slicing expression's indexes is out of range ?\n",
    "\n",
    "#### Solution :- If one of the slicing expression's indexes is out of range, i.e., if it is greater than or equal to the length of the sequence being sliced, then Python will not raise an error. Instead, it will simply return an empty sequence."
   ]
  },
  {
   "cell_type": "markdown",
   "id": "45fe8a01",
   "metadata": {},
   "source": [
    "### 6. If you pass a list to a function, and if you want the function to be able to change the values of the list—so that the list is different after the function returns—what action should you avoid ?\n",
    "\n",
    "#### Solution :- If we want a function to be able to change the values of a list passed to it as an argument, we should avoid reassigning the list variable to a new value within the function. In Python, lists are mutable objects, which means that they can be modified in place. This means that we an change the values of the list elements directly, without reassigning the list variable.\n",
    "#### To modify a list passed to a function, we should avoid reassigning the list variable to a new value within the function, and instead modify the individual list elements directly."
   ]
  },
  {
   "cell_type": "markdown",
   "id": "f1f9d31e",
   "metadata": {},
   "source": [
    "### 7. What is the concept of an unbalanced matrix ?\n",
    "\n",
    "#### Solution :- In the context of matrices, an unbalanced matrix is a matrix where the number of rows and the number of columns are not equal. In other words, an unbalanced matrix is a rectangular matrix that does not have the same number of rows and columns."
   ]
  },
  {
   "cell_type": "markdown",
   "id": "b23c3837",
   "metadata": {},
   "source": [
    "### 8. Why is it necessary to use either list comprehension or a loop to create arbitrarily large matrices ?\n",
    "\n",
    "#### Solution :- In Python, matrices are commonly represented as lists of lists, where each inner list represents a row of the matrix. To create an arbitrarily large matrix, we need to create a list of lists with the desired number of rows and columns.\n",
    "\n",
    "#### To create a list of lists with the desired number of rows and columns, we can use either list comprehension or a loop. List comprehension is a concise and efficient way to create a list of lists, while a loop provides more control and flexibility over the creation process.\n",
    "\n",
    "#### The reason why it is necessary to use either list comprehension or a loop to create arbitrarily large matrices is that we cannot simply define a matrix of a certain size in Python, like we can in some other programming languages. In Python, lists are dynamic data structures, which means that their size can be changed at runtime. This makes it easy to create lists of arbitrary sizes, but it also means that we cannot preallocate a matrix of a certain size like we can in languages like C++ or Java.\n",
    "\n",
    "#### Therefore, to create an arbitrarily large matrix in Python, we need to use either list comprehension or a loop to create the list of lists that represents the matrix. By using list comprehension or a loop, we can create the necessary number of rows and columns and populate them with the desired values."
   ]
  },
  {
   "cell_type": "code",
   "execution_count": null,
   "id": "32b8c56a",
   "metadata": {},
   "outputs": [],
   "source": []
  }
 ],
 "metadata": {
  "kernelspec": {
   "display_name": "Python 3 (ipykernel)",
   "language": "python",
   "name": "python3"
  },
  "language_info": {
   "codemirror_mode": {
    "name": "ipython",
    "version": 3
   },
   "file_extension": ".py",
   "mimetype": "text/x-python",
   "name": "python",
   "nbconvert_exporter": "python",
   "pygments_lexer": "ipython3",
   "version": "3.9.13"
  }
 },
 "nbformat": 4,
 "nbformat_minor": 5
}
